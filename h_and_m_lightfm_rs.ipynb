{
 "cells": [
  {
   "cell_type": "markdown",
   "id": "ea93769e",
   "metadata": {},
   "source": [
    "Projet sur les systèmes de recommandation avec la librairie LightFM\n",
    "==============="
   ]
  },
  {
   "cell_type": "markdown",
   "id": "7b160c20",
   "metadata": {},
   "source": [
    "Il s'agit d'un concours Kaggle dédié aux [recommandations d'article de mode de chez H&M](https://www.kaggle.com/competitions/h-and-m-personalized-fashion-recommendations/). Les soumissions sont évaluées selon la précision moyenne @12 (MAP@12)."
   ]
  },
  {
   "cell_type": "markdown",
   "id": "51816c4b",
   "metadata": {},
   "source": [
    "## 1. Packages, configurations et importation des données\n",
    "\n",
    "La première étape consiste à déclarer les librairies et à les configurer."
   ]
  },
  {
   "cell_type": "code",
   "execution_count": 1,
   "id": "c138ddca",
   "metadata": {
    "collapsed": false,
    "execution": {
     "iopub.execute_input": "2024-02-14T15:47:10.214726Z",
     "iopub.status.busy": "2024-02-14T15:47:10.214320Z",
     "iopub.status.idle": "2024-02-14T15:47:10.751384Z",
     "shell.execute_reply": "2024-02-14T15:47:10.750787Z",
     "shell.execute_reply.started": "2024-02-14T15:47:10.214699Z"
    },
    "ExecuteTime": {
     "end_time": "2024-02-17T02:52:54.675847Z",
     "start_time": "2024-02-17T02:52:54.628943Z"
    }
   },
   "outputs": [
    {
     "name": "stderr",
     "output_type": "stream",
     "text": [
      "/Users/edy/miniconda3/envs/data-study/lib/python3.11/site-packages/lightfm/_lightfm_fast.py:9: UserWarning: LightFM was compiled without OpenMP support. Only a single thread will be used.\n",
      "  warnings.warn(\n"
     ]
    }
   ],
   "source": [
    "# BASE\n",
    "# ------------------------------------------------------\n",
    "\n",
    "import gc\n",
    "import itertools\n",
    "import pickle\n",
    "import time\n",
    "import warnings\n",
    "from functools import partial\n",
    "from multiprocessing import Pool\n",
    "\n",
    "import numpy as np\n",
    "import pandas as pd\n",
    "\n",
    "# MODELING\n",
    "# ------------------------------------------------------\n",
    "from lightfm import LightFM\n",
    "from lightfm.cross_validation import random_train_test_split\n",
    "from lightfm.data import Dataset\n",
    "from lightfm.evaluation import precision_at_k\n",
    "from sklearn.preprocessing import LabelEncoder\n",
    "from tqdm import tqdm\n",
    "\n",
    "# DATA VISUALIZATION\n",
    "# ------------------------------------------------------\n",
    "import seaborn as sns\n",
    "from matplotlib import pyplot as plt\n",
    "\n",
    "# CONFIGURATIONS\n",
    "# ------------------------------------------------------\n",
    "pd.set_option('expand_frame_repr', False)\n",
    "pd.set_option('display.max_columns', None)\n",
    "pd.options.display.float_format = '{:.2f}'.format\n",
    "warnings.filterwarnings('ignore')\n",
    "gc.enable()"
   ]
  },
  {
   "cell_type": "code",
   "execution_count": 2,
   "id": "cbf233e2e457df2e",
   "metadata": {
    "collapsed": false,
    "execution": {
     "iopub.execute_input": "2024-02-14T15:47:10.753090Z",
     "iopub.status.busy": "2024-02-14T15:47:10.752679Z",
     "iopub.status.idle": "2024-02-14T15:47:49.446591Z",
     "shell.execute_reply": "2024-02-14T15:47:49.445927Z",
     "shell.execute_reply.started": "2024-02-14T15:47:10.753060Z"
    },
    "ExecuteTime": {
     "end_time": "2024-02-17T02:53:33.712259Z",
     "start_time": "2024-02-17T02:53:12.269610Z"
    }
   },
   "outputs": [],
   "source": [
    "article_data = pd.read_csv(\"../input/h-and-m-personalized-fashion-recommendations/articles.csv\",\n",
    "                           dtype={'article_id': str})\n",
    "customer_data = pd.read_csv(\"../input/h-and-m-personalized-fashion-recommendations/customers.csv\")\n",
    "transactions_data = pd.read_csv(\"../input/h-and-m-personalized-fashion-recommendations/transactions_train.csv\",\n",
    "                                dtype={'article_id': str}, parse_dates=['t_dat'])"
   ]
  },
  {
   "cell_type": "markdown",
   "id": "bcbfd8ce",
   "metadata": {},
   "source": [
    "## 2. Analyse exploratoire des données"
   ]
  },
  {
   "cell_type": "markdown",
   "id": "d2c65bc7",
   "metadata": {},
   "source": [
    "Nous disposons de différents types de données pour nous aider à obtenir des recommandations :\n",
    "\n",
    "`images` : images pour chaque article\n",
    "\n",
    "`articles` : métadonnées détaillées pour chaque article\n",
    "\n",
    "`customers` : métadonnées détaillées de chaque client\n",
    "\n",
    "`transactions_train` : achats détaillés"
   ]
  },
  {
   "cell_type": "markdown",
   "id": "5c17ebb8a1afede8",
   "metadata": {},
   "source": [
    "### 2.1. Données sur les articles\n",
    "\n",
    "Le dataset des articles contient la description de chaque article avec des détails tels qu'un type de produit, une couleur, un groupe de produits et d'autres caractéristiques. Les variables décrivant les articles sont de type catégoriel. "
   ]
  },
  {
   "cell_type": "code",
   "execution_count": 3,
   "id": "1241a99f6be455a4",
   "metadata": {
    "collapsed": false,
    "execution": {
     "iopub.execute_input": "2024-02-14T15:47:49.447819Z",
     "iopub.status.busy": "2024-02-14T15:47:49.447486Z",
     "iopub.status.idle": "2024-02-14T15:47:49.450644Z",
     "shell.execute_reply": "2024-02-14T15:47:49.450045Z",
     "shell.execute_reply.started": "2024-02-14T15:47:49.447773Z"
    },
    "ExecuteTime": {
     "end_time": "2024-02-17T02:54:00.587765Z",
     "start_time": "2024-02-17T02:54:00.565533Z"
    }
   },
   "outputs": [
    {
     "name": "stdout",
     "output_type": "stream",
     "text": [
      "(105542, 25)\n"
     ]
    },
    {
     "data": {
      "text/plain": "   article_id  product_code          prod_name  product_type_no product_type_name  product_group_name  graphical_appearance_no graphical_appearance_name  colour_group_code colour_group_name  perceived_colour_value_id perceived_colour_value_name  perceived_colour_master_id perceived_colour_master_name  department_no department_name index_code        index_name  index_group_no index_group_name  section_no            section_name  garment_group_no garment_group_name                                        detail_desc\n0  0108775015        108775          Strap top              253          Vest top  Garment Upper body                  1010016                     Solid                  9             Black                          4                        Dark                           5                        Black           1676    Jersey Basic          A        Ladieswear               1       Ladieswear          16  Womens Everyday Basics              1002       Jersey Basic            Jersey top with narrow shoulder straps.\n1  0108775044        108775          Strap top              253          Vest top  Garment Upper body                  1010016                     Solid                 10             White                          3                       Light                           9                        White           1676    Jersey Basic          A        Ladieswear               1       Ladieswear          16  Womens Everyday Basics              1002       Jersey Basic            Jersey top with narrow shoulder straps.\n2  0108775051        108775      Strap top (1)              253          Vest top  Garment Upper body                  1010017                    Stripe                 11         Off White                          1                 Dusty Light                           9                        White           1676    Jersey Basic          A        Ladieswear               1       Ladieswear          16  Womens Everyday Basics              1002       Jersey Basic            Jersey top with narrow shoulder straps.\n3  0110065001        110065  OP T-shirt (Idro)              306               Bra           Underwear                  1010016                     Solid                  9             Black                          4                        Dark                           5                        Black           1339  Clean Lingerie          B  Lingeries/Tights               1       Ladieswear          61         Womens Lingerie              1017  Under-, Nightwear  Microfibre T-shirt bra with underwired, moulde...\n4  0110065002        110065  OP T-shirt (Idro)              306               Bra           Underwear                  1010016                     Solid                 10             White                          3                       Light                           9                        White           1339  Clean Lingerie          B  Lingeries/Tights               1       Ladieswear          61         Womens Lingerie              1017  Under-, Nightwear  Microfibre T-shirt bra with underwired, moulde...",
      "text/html": "<div>\n<style scoped>\n    .dataframe tbody tr th:only-of-type {\n        vertical-align: middle;\n    }\n\n    .dataframe tbody tr th {\n        vertical-align: top;\n    }\n\n    .dataframe thead th {\n        text-align: right;\n    }\n</style>\n<table border=\"1\" class=\"dataframe\">\n  <thead>\n    <tr style=\"text-align: right;\">\n      <th></th>\n      <th>article_id</th>\n      <th>product_code</th>\n      <th>prod_name</th>\n      <th>product_type_no</th>\n      <th>product_type_name</th>\n      <th>product_group_name</th>\n      <th>graphical_appearance_no</th>\n      <th>graphical_appearance_name</th>\n      <th>colour_group_code</th>\n      <th>colour_group_name</th>\n      <th>perceived_colour_value_id</th>\n      <th>perceived_colour_value_name</th>\n      <th>perceived_colour_master_id</th>\n      <th>perceived_colour_master_name</th>\n      <th>department_no</th>\n      <th>department_name</th>\n      <th>index_code</th>\n      <th>index_name</th>\n      <th>index_group_no</th>\n      <th>index_group_name</th>\n      <th>section_no</th>\n      <th>section_name</th>\n      <th>garment_group_no</th>\n      <th>garment_group_name</th>\n      <th>detail_desc</th>\n    </tr>\n  </thead>\n  <tbody>\n    <tr>\n      <th>0</th>\n      <td>0108775015</td>\n      <td>108775</td>\n      <td>Strap top</td>\n      <td>253</td>\n      <td>Vest top</td>\n      <td>Garment Upper body</td>\n      <td>1010016</td>\n      <td>Solid</td>\n      <td>9</td>\n      <td>Black</td>\n      <td>4</td>\n      <td>Dark</td>\n      <td>5</td>\n      <td>Black</td>\n      <td>1676</td>\n      <td>Jersey Basic</td>\n      <td>A</td>\n      <td>Ladieswear</td>\n      <td>1</td>\n      <td>Ladieswear</td>\n      <td>16</td>\n      <td>Womens Everyday Basics</td>\n      <td>1002</td>\n      <td>Jersey Basic</td>\n      <td>Jersey top with narrow shoulder straps.</td>\n    </tr>\n    <tr>\n      <th>1</th>\n      <td>0108775044</td>\n      <td>108775</td>\n      <td>Strap top</td>\n      <td>253</td>\n      <td>Vest top</td>\n      <td>Garment Upper body</td>\n      <td>1010016</td>\n      <td>Solid</td>\n      <td>10</td>\n      <td>White</td>\n      <td>3</td>\n      <td>Light</td>\n      <td>9</td>\n      <td>White</td>\n      <td>1676</td>\n      <td>Jersey Basic</td>\n      <td>A</td>\n      <td>Ladieswear</td>\n      <td>1</td>\n      <td>Ladieswear</td>\n      <td>16</td>\n      <td>Womens Everyday Basics</td>\n      <td>1002</td>\n      <td>Jersey Basic</td>\n      <td>Jersey top with narrow shoulder straps.</td>\n    </tr>\n    <tr>\n      <th>2</th>\n      <td>0108775051</td>\n      <td>108775</td>\n      <td>Strap top (1)</td>\n      <td>253</td>\n      <td>Vest top</td>\n      <td>Garment Upper body</td>\n      <td>1010017</td>\n      <td>Stripe</td>\n      <td>11</td>\n      <td>Off White</td>\n      <td>1</td>\n      <td>Dusty Light</td>\n      <td>9</td>\n      <td>White</td>\n      <td>1676</td>\n      <td>Jersey Basic</td>\n      <td>A</td>\n      <td>Ladieswear</td>\n      <td>1</td>\n      <td>Ladieswear</td>\n      <td>16</td>\n      <td>Womens Everyday Basics</td>\n      <td>1002</td>\n      <td>Jersey Basic</td>\n      <td>Jersey top with narrow shoulder straps.</td>\n    </tr>\n    <tr>\n      <th>3</th>\n      <td>0110065001</td>\n      <td>110065</td>\n      <td>OP T-shirt (Idro)</td>\n      <td>306</td>\n      <td>Bra</td>\n      <td>Underwear</td>\n      <td>1010016</td>\n      <td>Solid</td>\n      <td>9</td>\n      <td>Black</td>\n      <td>4</td>\n      <td>Dark</td>\n      <td>5</td>\n      <td>Black</td>\n      <td>1339</td>\n      <td>Clean Lingerie</td>\n      <td>B</td>\n      <td>Lingeries/Tights</td>\n      <td>1</td>\n      <td>Ladieswear</td>\n      <td>61</td>\n      <td>Womens Lingerie</td>\n      <td>1017</td>\n      <td>Under-, Nightwear</td>\n      <td>Microfibre T-shirt bra with underwired, moulde...</td>\n    </tr>\n    <tr>\n      <th>4</th>\n      <td>0110065002</td>\n      <td>110065</td>\n      <td>OP T-shirt (Idro)</td>\n      <td>306</td>\n      <td>Bra</td>\n      <td>Underwear</td>\n      <td>1010016</td>\n      <td>Solid</td>\n      <td>10</td>\n      <td>White</td>\n      <td>3</td>\n      <td>Light</td>\n      <td>9</td>\n      <td>White</td>\n      <td>1339</td>\n      <td>Clean Lingerie</td>\n      <td>B</td>\n      <td>Lingeries/Tights</td>\n      <td>1</td>\n      <td>Ladieswear</td>\n      <td>61</td>\n      <td>Womens Lingerie</td>\n      <td>1017</td>\n      <td>Under-, Nightwear</td>\n      <td>Microfibre T-shirt bra with underwired, moulde...</td>\n    </tr>\n  </tbody>\n</table>\n</div>"
     },
     "execution_count": 3,
     "metadata": {},
     "output_type": "execute_result"
    }
   ],
   "source": [
    "print(article_data.shape)\n",
    "article_data.head()"
   ]
  },
  {
   "cell_type": "markdown",
   "source": [
    "Il n'y a pas de doublons d'identifiant. Chaque ligne décrit ainsi chaque article de façon unique."
   ],
   "metadata": {
    "collapsed": false
   },
   "id": "4ec1dd885370c06f"
  },
  {
   "cell_type": "code",
   "execution_count": 4,
   "id": "9ec0818a919d8159",
   "metadata": {
    "collapsed": false,
    "execution": {
     "iopub.execute_input": "2024-02-14T15:47:49.451713Z",
     "iopub.status.busy": "2024-02-14T15:47:49.451454Z",
     "iopub.status.idle": "2024-02-14T15:47:49.455131Z",
     "shell.execute_reply": "2024-02-14T15:47:49.454611Z",
     "shell.execute_reply.started": "2024-02-14T15:47:49.451691Z"
    },
    "ExecuteTime": {
     "end_time": "2024-02-17T02:54:04.086154Z",
     "start_time": "2024-02-17T02:54:04.059991Z"
    }
   },
   "outputs": [
    {
     "data": {
      "text/plain": "0"
     },
     "execution_count": 4,
     "metadata": {},
     "output_type": "execute_result"
    }
   ],
   "source": [
    "article_data.shape[0] - article_data['article_id'].nunique()"
   ]
  },
  {
   "cell_type": "markdown",
   "source": [
    "Nous pouvons observer les catégories présentant le plus grand nombre d'articles. On constate que les articles pour femmes représentent la part la plus importante des articles contrairement aux articles de sport. De plus le Jersey Fancy est le vêtement le plus frequent dans chaque catégorie."
   ],
   "metadata": {
    "collapsed": false
   },
   "id": "723a475a457fc515"
  },
  {
   "cell_type": "code",
   "execution_count": 5,
   "id": "8e62f60f167bea79",
   "metadata": {
    "collapsed": false,
    "ExecuteTime": {
     "end_time": "2024-02-17T02:54:07.029796Z",
     "start_time": "2024-02-17T02:54:06.723202Z"
    }
   },
   "outputs": [
    {
     "data": {
      "text/plain": "<Figure size 1500x700 with 1 Axes>",
      "image/png": "[encoded data removed]"
     },
     "metadata": {},
     "output_type": "display_data"
    }
   ],
   "source": [
    "f, ax = plt.subplots(figsize=(15, 7))\n",
    "ax = sns.histplot(data=article_data, y='index_group_name', color='pink', hue='garment_group_name', multiple=\"stack\")\n",
    "sns.move_legend(ax, \"upper left\", bbox_to_anchor=(1, 1))\n",
    "ax.set_xlabel('count by group name')\n",
    "ax.set_ylabel('group name')\n",
    "plt.show()"
   ]
  },
  {
   "cell_type": "markdown",
   "id": "e39b7e3f0e5c77fe",
   "metadata": {},
   "source": [
    "### 2.2. Données sur les clients\n",
    "\n",
    "Le dataset des clients contient la description de chaque client avec des détails tel que l'age et le code postal."
   ]
  },
  {
   "cell_type": "code",
   "execution_count": 6,
   "id": "755dcfca",
   "metadata": {
    "collapsed": false,
    "execution": {
     "iopub.execute_input": "2024-02-14T15:47:49.456812Z",
     "iopub.status.busy": "2024-02-14T15:47:49.456563Z",
     "iopub.status.idle": "2024-02-14T15:47:49.459742Z",
     "shell.execute_reply": "2024-02-14T15:47:49.459198Z",
     "shell.execute_reply.started": "2024-02-14T15:47:49.456790Z"
    },
    "ExecuteTime": {
     "end_time": "2024-02-17T02:54:10.610783Z",
     "start_time": "2024-02-17T02:54:10.574028Z"
    }
   },
   "outputs": [
    {
     "name": "stdout",
     "output_type": "stream",
     "text": [
      "(1371980, 7)\n"
     ]
    },
    {
     "data": {
      "text/plain": "                                         customer_id   FN  Active club_member_status fashion_news_frequency   age                                        postal_code\n0  00000dbacae5abe5e23885899a1fa44253a17956c6d1c3...  NaN     NaN             ACTIVE                   NONE 49.00  52043ee2162cf5aa7ee79974281641c6f11a68d276429a...\n1  0000423b00ade91418cceaf3b26c6af3dd342b51fd051e...  NaN     NaN             ACTIVE                   NONE 25.00  2973abc54daa8a5f8ccfe9362140c63247c5eee03f1d93...\n2  000058a12d5b43e67d225668fa1f8d618c13dc232df0ca...  NaN     NaN             ACTIVE                   NONE 24.00  64f17e6a330a85798e4998f62d0930d14db8db1c054af6...\n3  00005ca1c9ed5f5146b52ac8639a40ca9d57aeff4d1bd2...  NaN     NaN             ACTIVE                   NONE 54.00  5d36574f52495e81f019b680c843c443bd343d5ca5b1c2...\n4  00006413d8573cd20ed7128e53b7b13819fe5cfc2d801f... 1.00    1.00             ACTIVE              Regularly 52.00  25fa5ddee9aac01b35208d01736e57942317d756b32ddd...",
      "text/html": "<div>\n<style scoped>\n    .dataframe tbody tr th:only-of-type {\n        vertical-align: middle;\n    }\n\n    .dataframe tbody tr th {\n        vertical-align: top;\n    }\n\n    .dataframe thead th {\n        text-align: right;\n    }\n</style>\n<table border=\"1\" class=\"dataframe\">\n  <thead>\n    <tr style=\"text-align: right;\">\n      <th></th>\n      <th>customer_id</th>\n      <th>FN</th>\n      <th>Active</th>\n      <th>club_member_status</th>\n      <th>fashion_news_frequency</th>\n      <th>age</th>\n      <th>postal_code</th>\n    </tr>\n  </thead>\n  <tbody>\n    <tr>\n      <th>0</th>\n      <td>00000dbacae5abe5e23885899a1fa44253a17956c6d1c3...</td>\n      <td>NaN</td>\n      <td>NaN</td>\n      <td>ACTIVE</td>\n      <td>NONE</td>\n      <td>49.00</td>\n      <td>52043ee2162cf5aa7ee79974281641c6f11a68d276429a...</td>\n    </tr>\n    <tr>\n      <th>1</th>\n      <td>0000423b00ade91418cceaf3b26c6af3dd342b51fd051e...</td>\n      <td>NaN</td>\n      <td>NaN</td>\n      <td>ACTIVE</td>\n      <td>NONE</td>\n      <td>25.00</td>\n      <td>2973abc54daa8a5f8ccfe9362140c63247c5eee03f1d93...</td>\n    </tr>\n    <tr>\n      <th>2</th>\n      <td>000058a12d5b43e67d225668fa1f8d618c13dc232df0ca...</td>\n      <td>NaN</td>\n      <td>NaN</td>\n      <td>ACTIVE</td>\n      <td>NONE</td>\n      <td>24.00</td>\n      <td>64f17e6a330a85798e4998f62d0930d14db8db1c054af6...</td>\n    </tr>\n    <tr>\n      <th>3</th>\n      <td>00005ca1c9ed5f5146b52ac8639a40ca9d57aeff4d1bd2...</td>\n      <td>NaN</td>\n      <td>NaN</td>\n      <td>ACTIVE</td>\n      <td>NONE</td>\n      <td>54.00</td>\n      <td>5d36574f52495e81f019b680c843c443bd343d5ca5b1c2...</td>\n    </tr>\n    <tr>\n      <th>4</th>\n      <td>00006413d8573cd20ed7128e53b7b13819fe5cfc2d801f...</td>\n      <td>1.00</td>\n      <td>1.00</td>\n      <td>ACTIVE</td>\n      <td>Regularly</td>\n      <td>52.00</td>\n      <td>25fa5ddee9aac01b35208d01736e57942317d756b32ddd...</td>\n    </tr>\n  </tbody>\n</table>\n</div>"
     },
     "execution_count": 6,
     "metadata": {},
     "output_type": "execute_result"
    }
   ],
   "source": [
    "print(customer_data.shape)\n",
    "customer_data.head()"
   ]
  },
  {
   "cell_type": "markdown",
   "source": [
    "Il n'y a pas de doublons d'identifiant. Chaque ligne décrit ainsi chaque client de façon unique."
   ],
   "metadata": {
    "collapsed": false
   },
   "id": "18129a57815ed334"
  },
  {
   "cell_type": "code",
   "execution_count": 7,
   "id": "910b0d13b9706395",
   "metadata": {
    "collapsed": false,
    "execution": {
     "iopub.execute_input": "2024-02-14T15:47:49.460746Z",
     "iopub.status.busy": "2024-02-14T15:47:49.460454Z",
     "iopub.status.idle": "2024-02-14T15:47:49.464083Z",
     "shell.execute_reply": "2024-02-14T15:47:49.463588Z",
     "shell.execute_reply.started": "2024-02-14T15:47:49.460724Z"
    },
    "ExecuteTime": {
     "end_time": "2024-02-17T02:54:13.266751Z",
     "start_time": "2024-02-17T02:54:12.950059Z"
    }
   },
   "outputs": [
    {
     "data": {
      "text/plain": "0"
     },
     "execution_count": 7,
     "metadata": {},
     "output_type": "execute_result"
    }
   ],
   "source": [
    "customer_data.shape[0] - customer_data['customer_id'].nunique()"
   ]
  },
  {
   "cell_type": "markdown",
   "source": [
    "On peut constater que la majorité des clients ont entre 21 et 25 ans."
   ],
   "metadata": {
    "collapsed": false
   },
   "id": "54388f8e8f7047b7"
  },
  {
   "cell_type": "code",
   "execution_count": 8,
   "id": "c8b32cac038316bc",
   "metadata": {
    "collapsed": false,
    "ExecuteTime": {
     "end_time": "2024-02-17T02:54:16.323481Z",
     "start_time": "2024-02-17T02:54:15.984558Z"
    }
   },
   "outputs": [
    {
     "data": {
      "text/plain": "<Figure size 1000x500 with 1 Axes>",
      "image/png": "[encoded data removed]"
     },
     "metadata": {},
     "output_type": "display_data"
    }
   ],
   "source": [
    "sns.set_style(\"darkgrid\")\n",
    "f, ax = plt.subplots(figsize=(10, 5))\n",
    "ax = sns.histplot(data=customer_data, x='age', bins=50, color='skyblue')\n",
    "ax.set_xlabel('Distribution of the customers age')\n",
    "plt.show()"
   ]
  },
  {
   "cell_type": "markdown",
   "id": "67b01d75c1d617ee",
   "metadata": {},
   "source": [
    "### 2.3. Données sur les transactions\n",
    "\n",
    "Le dataset des transactions contient la description de chaque achat avec des détails tels que le montant de l'achat et les identifiants du client et de l'article."
   ]
  },
  {
   "cell_type": "code",
   "execution_count": 9,
   "id": "91f791cf3722d90b",
   "metadata": {
    "collapsed": false,
    "execution": {
     "iopub.execute_input": "2024-02-14T15:47:49.465022Z",
     "iopub.status.busy": "2024-02-14T15:47:49.464766Z",
     "iopub.status.idle": "2024-02-14T15:47:49.468271Z",
     "shell.execute_reply": "2024-02-14T15:47:49.467761Z",
     "shell.execute_reply.started": "2024-02-14T15:47:49.465000Z"
    },
    "ExecuteTime": {
     "end_time": "2024-02-17T02:54:19.746581Z",
     "start_time": "2024-02-17T02:54:19.737889Z"
    }
   },
   "outputs": [
    {
     "name": "stdout",
     "output_type": "stream",
     "text": [
      "(31788324, 5)\n"
     ]
    },
    {
     "data": {
      "text/plain": "       t_dat                                        customer_id  article_id  price  sales_channel_id\n0 2018-09-20  000058a12d5b43e67d225668fa1f8d618c13dc232df0ca...  0663713001   0.05                 2\n1 2018-09-20  000058a12d5b43e67d225668fa1f8d618c13dc232df0ca...  0541518023   0.03                 2\n2 2018-09-20  00007d2de826758b65a93dd24ce629ed66842531df6699...  0505221004   0.02                 2\n3 2018-09-20  00007d2de826758b65a93dd24ce629ed66842531df6699...  0685687003   0.02                 2\n4 2018-09-20  00007d2de826758b65a93dd24ce629ed66842531df6699...  0685687004   0.02                 2",
      "text/html": "<div>\n<style scoped>\n    .dataframe tbody tr th:only-of-type {\n        vertical-align: middle;\n    }\n\n    .dataframe tbody tr th {\n        vertical-align: top;\n    }\n\n    .dataframe thead th {\n        text-align: right;\n    }\n</style>\n<table border=\"1\" class=\"dataframe\">\n  <thead>\n    <tr style=\"text-align: right;\">\n      <th></th>\n      <th>t_dat</th>\n      <th>customer_id</th>\n      <th>article_id</th>\n      <th>price</th>\n      <th>sales_channel_id</th>\n    </tr>\n  </thead>\n  <tbody>\n    <tr>\n      <th>0</th>\n      <td>2018-09-20</td>\n      <td>000058a12d5b43e67d225668fa1f8d618c13dc232df0ca...</td>\n      <td>0663713001</td>\n      <td>0.05</td>\n      <td>2</td>\n    </tr>\n    <tr>\n      <th>1</th>\n      <td>2018-09-20</td>\n      <td>000058a12d5b43e67d225668fa1f8d618c13dc232df0ca...</td>\n      <td>0541518023</td>\n      <td>0.03</td>\n      <td>2</td>\n    </tr>\n    <tr>\n      <th>2</th>\n      <td>2018-09-20</td>\n      <td>00007d2de826758b65a93dd24ce629ed66842531df6699...</td>\n      <td>0505221004</td>\n      <td>0.02</td>\n      <td>2</td>\n    </tr>\n    <tr>\n      <th>3</th>\n      <td>2018-09-20</td>\n      <td>00007d2de826758b65a93dd24ce629ed66842531df6699...</td>\n      <td>0685687003</td>\n      <td>0.02</td>\n      <td>2</td>\n    </tr>\n    <tr>\n      <th>4</th>\n      <td>2018-09-20</td>\n      <td>00007d2de826758b65a93dd24ce629ed66842531df6699...</td>\n      <td>0685687004</td>\n      <td>0.02</td>\n      <td>2</td>\n    </tr>\n  </tbody>\n</table>\n</div>"
     },
     "execution_count": 9,
     "metadata": {},
     "output_type": "execute_result"
    }
   ],
   "source": [
    "print(transactions_data.shape)\n",
    "transactions_data.head()"
   ]
  },
  {
   "cell_type": "markdown",
   "source": [
    "Nous pouvons observer le minimum, la médiane, le maximum et les valeurs abérrantes des montants de toutes les transactions."
   ],
   "metadata": {
    "collapsed": false
   },
   "id": "d0d39e88eec2df93"
  },
  {
   "cell_type": "code",
   "execution_count": 10,
   "id": "dea0551c4ea735ad",
   "metadata": {
    "collapsed": false,
    "ExecuteTime": {
     "end_time": "2024-02-17T02:54:24.152001Z",
     "start_time": "2024-02-17T02:54:22.535727Z"
    }
   },
   "outputs": [
    {
     "data": {
      "text/plain": "<Figure size 1000x500 with 1 Axes>",
      "image/png": "[encoded data removed]"
     },
     "metadata": {},
     "output_type": "display_data"
    }
   ],
   "source": [
    "sns.set_style(\"darkgrid\")\n",
    "f, ax = plt.subplots(figsize=(10, 5))\n",
    "ax = sns.boxplot(data=transactions_data, x='price', color='pink')\n",
    "ax.set_xlabel('Price outliers')\n",
    "plt.show()"
   ]
  },
  {
   "cell_type": "markdown",
   "id": "5f4fadfb",
   "metadata": {},
   "source": [
    "## 3. Recommandations basées sur un filtrage collaboratif sans les caractéristiques d'articles et d'utilisateurs\n",
    "\n",
    "### 3.1. Matrice d'interaction utilisateur-élément\n",
    "\n",
    "Étant donné qu'un système de recommandation sur des données volumineux est très coûteux en termes de calcul, nous ne l'appliquerons qu'à un petit sous-ensemble d'utilisateurs. \n",
    "\n",
    "Nous ne conservons que l’historique le plus récent, soit à partir de `'2020-08-21'`."
   ]
  },
  {
   "cell_type": "code",
   "execution_count": 11,
   "id": "ed6c6248",
   "metadata": {
    "collapsed": false,
    "execution": {
     "iopub.execute_input": "2024-02-14T15:47:49.469256Z",
     "iopub.status.busy": "2024-02-14T15:47:49.469004Z",
     "iopub.status.idle": "2024-02-14T15:47:51.062474Z",
     "shell.execute_reply": "2024-02-14T15:47:51.061863Z",
     "shell.execute_reply.started": "2024-02-14T15:47:49.469234Z"
    },
    "ExecuteTime": {
     "end_time": "2024-02-17T02:54:35.787646Z",
     "start_time": "2024-02-17T02:54:35.032553Z"
    }
   },
   "outputs": [
    {
     "name": "stdout",
     "output_type": "stream",
     "text": [
      "(1051730, 4)\n"
     ]
    },
    {
     "data": {
      "text/plain": "                                         customer_id  article_id  total_amount_spent  product_count\n0  00000dbacae5abe5e23885899a1fa44253a17956c6d1c3...  0568601043                0.05              1\n1  000058a12d5b43e67d225668fa1f8d618c13dc232df0ca...  0794321007                0.06              1\n2  0000757967448a6cb83efb3ea7a3fb9d418ac7adf2379d...  0448509014                0.04              1\n3  0000757967448a6cb83efb3ea7a3fb9d418ac7adf2379d...  0719530003                0.03              1\n4  00009d946eec3ea54add5ba56d5210ea898def4b46c685...  0516859008                0.01              1",
      "text/html": "<div>\n<style scoped>\n    .dataframe tbody tr th:only-of-type {\n        vertical-align: middle;\n    }\n\n    .dataframe tbody tr th {\n        vertical-align: top;\n    }\n\n    .dataframe thead th {\n        text-align: right;\n    }\n</style>\n<table border=\"1\" class=\"dataframe\">\n  <thead>\n    <tr style=\"text-align: right;\">\n      <th></th>\n      <th>customer_id</th>\n      <th>article_id</th>\n      <th>total_amount_spent</th>\n      <th>product_count</th>\n    </tr>\n  </thead>\n  <tbody>\n    <tr>\n      <th>0</th>\n      <td>00000dbacae5abe5e23885899a1fa44253a17956c6d1c3...</td>\n      <td>0568601043</td>\n      <td>0.05</td>\n      <td>1</td>\n    </tr>\n    <tr>\n      <th>1</th>\n      <td>000058a12d5b43e67d225668fa1f8d618c13dc232df0ca...</td>\n      <td>0794321007</td>\n      <td>0.06</td>\n      <td>1</td>\n    </tr>\n    <tr>\n      <th>2</th>\n      <td>0000757967448a6cb83efb3ea7a3fb9d418ac7adf2379d...</td>\n      <td>0448509014</td>\n      <td>0.04</td>\n      <td>1</td>\n    </tr>\n    <tr>\n      <th>3</th>\n      <td>0000757967448a6cb83efb3ea7a3fb9d418ac7adf2379d...</td>\n      <td>0719530003</td>\n      <td>0.03</td>\n      <td>1</td>\n    </tr>\n    <tr>\n      <th>4</th>\n      <td>00009d946eec3ea54add5ba56d5210ea898def4b46c685...</td>\n      <td>0516859008</td>\n      <td>0.01</td>\n      <td>1</td>\n    </tr>\n  </tbody>\n</table>\n</div>"
     },
     "execution_count": 11,
     "metadata": {},
     "output_type": "execute_result"
    }
   ],
   "source": [
    "customer_to_article = transactions_data[transactions_data['t_dat'] > '2020-08-21']\n",
    "\n",
    "customer_to_article = customer_to_article.groupby(['customer_id', 'article_id']).agg(\n",
    "    {'price': 'sum', 't_dat': 'count'}).reset_index()\n",
    "\n",
    "customer_to_article = customer_to_article.rename(columns={\"t_dat\": \"product_count\"})\n",
    "customer_to_article = customer_to_article.rename(columns={\"price\": \"total_amount_spent\"})\n",
    "\n",
    "print(customer_to_article.shape)\n",
    "customer_to_article.head()"
   ]
  },
  {
   "cell_type": "markdown",
   "id": "6e79115c",
   "metadata": {},
   "source": [
    "Nous devons créer un mappage entre les identifiants d'utilisateur et d'élément de nos données d'entrée vers les indices qui seront utilisés en interne par notre modèle.\n",
    "\n",
    "Nous faisons cela parce que LightFM fonctionne avec des identifiants d'utilisateur et d'élément qui sont des entiers consécutifs non négatifs. La classe `Dataset` nous permet de créer un mappage entre les identifiants que nous utilisons dans nos systèmes et les indices consécutifs préférés par le modèle."
   ]
  },
  {
   "cell_type": "code",
   "execution_count": 12,
   "id": "370bf40f",
   "metadata": {
    "collapsed": false,
    "execution": {
     "iopub.execute_input": "2024-02-14T15:47:51.063730Z",
     "iopub.status.busy": "2024-02-14T15:47:51.063437Z",
     "iopub.status.idle": "2024-02-14T15:47:51.489581Z",
     "shell.execute_reply": "2024-02-14T15:47:51.488994Z",
     "shell.execute_reply.started": "2024-02-14T15:47:51.063707Z"
    },
    "ExecuteTime": {
     "end_time": "2024-02-17T02:54:40.916601Z",
     "start_time": "2024-02-17T02:54:40.644665Z"
    }
   },
   "outputs": [
    {
     "name": "stdout",
     "output_type": "stream",
     "text": [
      "Num users: 1371980, num_items 105542.\n"
     ]
    }
   ],
   "source": [
    "print('Num users: {}, num_items {}.'.format(len(customer_data['customer_id'].unique()),\n",
    "                                            len(article_data['article_id'].unique())))"
   ]
  },
  {
   "cell_type": "code",
   "execution_count": 13,
   "id": "108a5702",
   "metadata": {
    "collapsed": false,
    "execution": {
     "iopub.execute_input": "2024-02-14T15:47:51.491021Z",
     "iopub.status.busy": "2024-02-14T15:47:51.490686Z",
     "iopub.status.idle": "2024-02-14T15:47:53.060415Z",
     "shell.execute_reply": "2024-02-14T15:47:53.059798Z",
     "shell.execute_reply.started": "2024-02-14T15:47:51.490996Z"
    },
    "ExecuteTime": {
     "end_time": "2024-02-17T02:54:46.260209Z",
     "start_time": "2024-02-17T02:54:45.343186Z"
    }
   },
   "outputs": [],
   "source": [
    "dataset = Dataset()\n",
    "dataset.fit(customer_data['customer_id'].unique(),\n",
    "            article_data['article_id'].unique())"
   ]
  },
  {
   "cell_type": "markdown",
   "id": "cc83a65f",
   "metadata": {},
   "source": [
    "Nous pouvons vérifier que les mappages ont été créés en interrogeant l'ensemble de données sur le nombre d'utilisateurs et d'articles dont il connaît."
   ]
  },
  {
   "cell_type": "code",
   "execution_count": 14,
   "id": "054cbf65",
   "metadata": {
    "collapsed": false,
    "execution": {
     "iopub.execute_input": "2024-02-14T15:47:53.061620Z",
     "iopub.status.busy": "2024-02-14T15:47:53.061303Z",
     "iopub.status.idle": "2024-02-14T15:47:53.065592Z",
     "shell.execute_reply": "2024-02-14T15:47:53.064848Z",
     "shell.execute_reply.started": "2024-02-14T15:47:53.061596Z"
    },
    "ExecuteTime": {
     "end_time": "2024-02-17T02:54:49.431804Z",
     "start_time": "2024-02-17T02:54:49.414920Z"
    }
   },
   "outputs": [
    {
     "name": "stdout",
     "output_type": "stream",
     "text": [
      "Num users: 1371980, num_items 105542.\n"
     ]
    }
   ],
   "source": [
    "print('Num users: {}, num_items {}.'.format(dataset.interactions_shape()[0], dataset.interactions_shape()[1]))"
   ]
  },
  {
   "cell_type": "markdown",
   "id": "9e44835e",
   "metadata": {},
   "source": [
    "Après avoir créé la cartographie, nous construisons la matrice d'interaction en considérant le nombre total d'un même article acheté par un utilisateur sur une transaction comme poids de l'interaction."
   ]
  },
  {
   "cell_type": "code",
   "execution_count": 15,
   "id": "2994ad3d",
   "metadata": {
    "collapsed": false,
    "execution": {
     "iopub.execute_input": "2024-02-14T15:47:53.066700Z",
     "iopub.status.busy": "2024-02-14T15:47:53.066406Z",
     "iopub.status.idle": "2024-02-14T15:47:55.427350Z",
     "shell.execute_reply": "2024-02-14T15:47:55.426586Z",
     "shell.execute_reply.started": "2024-02-14T15:47:53.066678Z"
    },
    "ExecuteTime": {
     "end_time": "2024-02-17T02:54:53.610906Z",
     "start_time": "2024-02-17T02:54:52.691761Z"
    }
   },
   "outputs": [
    {
     "name": "stdout",
     "output_type": "stream",
     "text": [
      "<1371980x105542 sparse matrix of type '<class 'numpy.float32'>'\n",
      "\twith 1051730 stored elements in COOrdinate format>\n"
     ]
    }
   ],
   "source": [
    "(interactions, interactions_weights) = dataset.build_interactions(\n",
    "    customer_to_article[[\"customer_id\", \"article_id\", \"product_count\"]].itertuples(index=False, name=None))\n",
    "\n",
    "print(repr(interactions_weights))"
   ]
  },
  {
   "cell_type": "markdown",
   "id": "2fbbfd27",
   "metadata": {},
   "source": [
    "### 3.2. Tuning des hyper-paramètres par recherche aléatoire"
   ]
  },
  {
   "cell_type": "code",
   "execution_count": 16,
   "id": "baf1f1e6",
   "metadata": {
    "collapsed": false,
    "execution": {
     "iopub.execute_input": "2024-02-14T15:47:55.428557Z",
     "iopub.status.busy": "2024-02-14T15:47:55.428248Z",
     "iopub.status.idle": "2024-02-14T15:47:55.473241Z",
     "shell.execute_reply": "2024-02-14T15:47:55.472627Z",
     "shell.execute_reply.started": "2024-02-14T15:47:55.428533Z"
    },
    "ExecuteTime": {
     "end_time": "2024-02-17T02:54:56.859159Z",
     "start_time": "2024-02-17T02:54:56.838681Z"
    }
   },
   "outputs": [],
   "source": [
    "def sample_hyperparameters():\n",
    "    while True:\n",
    "        yield {\n",
    "            \"no_components\": np.random.randint(16, 64),\n",
    "            \"learning_schedule\": np.random.choice([\"adagrad\", \"adadelta\"]),\n",
    "            \"loss\": np.random.choice([\"bpr\", \"warp\", \"warp-kos\"]),\n",
    "            \"learning_rate\": np.random.exponential(0.05),\n",
    "            \"item_alpha\": np.random.exponential(1e-8),\n",
    "            \"user_alpha\": np.random.exponential(1e-8),\n",
    "            \"max_sampled\": np.random.randint(5, 15),\n",
    "            \"num_epochs\": np.random.randint(5, 50),\n",
    "        }\n",
    "\n",
    "\n",
    "def random_search(train_interactions_weights, test_interactions_weights, num_samples=50, num_threads=8):\n",
    "    for hyperparams in tqdm(itertools.islice(sample_hyperparameters(), num_samples), total=num_samples):\n",
    "        num_epochs = hyperparams.pop(\"num_epochs\")\n",
    "\n",
    "        model = LightFM(**hyperparams)\n",
    "        model.fit(train_interactions_weights, sample_weight=None, epochs=num_epochs,\n",
    "                  num_threads=num_threads)\n",
    "\n",
    "        score = precision_at_k(model, test_interactions_weights, train_interactions=train_interactions_weights, k=12,\n",
    "                               num_threads=num_threads).mean()\n",
    "\n",
    "        hyperparams[\"num_epochs\"] = num_epochs\n",
    "\n",
    "        yield (score, hyperparams, model)"
   ]
  },
  {
   "cell_type": "code",
   "execution_count": 17,
   "id": "ce43cb2f",
   "metadata": {
    "collapsed": false,
    "execution": {
     "iopub.execute_input": "2024-02-14T15:47:55.475310Z",
     "iopub.status.busy": "2024-02-14T15:47:55.475046Z",
     "iopub.status.idle": "2024-02-14T15:47:55.518288Z",
     "shell.execute_reply": "2024-02-14T15:47:55.517680Z",
     "shell.execute_reply.started": "2024-02-14T15:47:55.475288Z"
    },
    "tags": [],
    "ExecuteTime": {
     "end_time": "2024-02-17T02:55:04.703433Z",
     "start_time": "2024-02-17T02:55:04.666994Z"
    }
   },
   "outputs": [],
   "source": [
    "interactions_weights_train, interactions_weights_test = random_train_test_split(interactions_weights,\n",
    "                                                                                test_percentage=0.2,\n",
    "                                                                                random_state=np.random.RandomState(42))"
   ]
  },
  {
   "cell_type": "code",
   "execution_count": 13,
   "id": "0fd5225d",
   "metadata": {
    "ExecuteTime": {
     "start_time": "2024-02-12T19:45:41.353667Z"
    },
    "collapsed": false,
    "is_executing": true
   },
   "outputs": [
    {
     "name": "stderr",
     "output_type": "stream",
     "text": [
      "100%|███████████████████████████████████████████████████████████████████████████████████████████████████████████████████████████████████████████████████████████████████████████| 50/50 [3:54:50<00:00, 279.14s/it]\n"
     ]
    }
   ],
   "source": [
    "gc.collect()\n",
    "\n",
    "(score, hyperparams, model) = max(random_search(train_interactions_weights=interactions_weights_train,\n",
    "                                                test_interactions_weights=interactions_weights_test,\n",
    "                                                num_threads=8), key=lambda x: x[0])"
   ]
  },
  {
   "cell_type": "code",
   "execution_count": 18,
   "id": "d2a24c31",
   "metadata": {
    "collapsed": false,
    "execution": {
     "iopub.execute_input": "2024-02-13T07:46:11.497981Z",
     "iopub.status.busy": "2024-02-13T07:46:11.497268Z",
     "iopub.status.idle": "2024-02-13T07:46:11.503765Z",
     "shell.execute_reply": "2024-02-13T07:46:11.503160Z",
     "shell.execute_reply.started": "2024-02-13T07:46:11.497936Z"
    },
    "tags": [],
    "ExecuteTime": {
     "end_time": "2024-02-17T03:09:22.611563Z",
     "start_time": "2024-02-17T03:09:22.587741Z"
    }
   },
   "outputs": [
    {
     "data": {
      "text/plain": "{'score': 0.012020846,\n 'params': {'no_components': 61,\n  'learning_schedule': 'adagrad',\n  'loss': 'bpr',\n  'learning_rate': 0.04588163187556629,\n  'item_alpha': 3.582920782164289e-10,\n  'user_alpha': 1.6679723411950124e-09,\n  'max_sampled': 12,\n  'num_epochs': 39}}"
     },
     "execution_count": 18,
     "metadata": {},
     "output_type": "execute_result"
    }
   ],
   "source": [
    "optimized_dict = {'score': score,\n",
    "                  'params': hyperparams}\n",
    "\n",
    "# with open('optimized_dict_1.pkl', 'wb') as f:\n",
    "#    pickle.dump(optimized_dict, f)\n",
    "\n",
    "optimized_dict"
   ]
  },
  {
   "cell_type": "markdown",
   "source": [
    "Le modèle le plus optimale trouvé par recherche aléatoire a une précision de `0.012020846` sur les données de test."
   ],
   "metadata": {
    "collapsed": false
   },
   "id": "8dc4559ea1e2ef9e"
  },
  {
   "cell_type": "markdown",
   "id": "1cbcdd91",
   "metadata": {},
   "source": [
    "### 3.3. Entrainement du modèle à soumettre"
   ]
  },
  {
   "cell_type": "code",
   "execution_count": 19,
   "id": "db412d03",
   "metadata": {
    "collapsed": false,
    "execution": {
     "iopub.execute_input": "2024-02-13T07:47:15.217488Z",
     "iopub.status.busy": "2024-02-13T07:47:15.217084Z",
     "iopub.status.idle": "2024-02-13T07:47:15.220780Z",
     "shell.execute_reply": "2024-02-13T07:47:15.220189Z",
     "shell.execute_reply.started": "2024-02-13T07:47:15.217460Z"
    },
    "ExecuteTime": {
     "end_time": "2024-02-17T03:09:41.393795Z",
     "start_time": "2024-02-17T03:09:41.368720Z"
    }
   },
   "outputs": [],
   "source": [
    "best_hyperparams = optimized_dict['params']\n",
    "num_epochs = best_hyperparams.pop(\"num_epochs\")"
   ]
  },
  {
   "cell_type": "code",
   "execution_count": 20,
   "id": "a87b6a75",
   "metadata": {
    "collapsed": false,
    "execution": {
     "iopub.execute_input": "2024-02-13T07:47:15.224686Z",
     "iopub.status.busy": "2024-02-13T07:47:15.224416Z",
     "iopub.status.idle": "2024-02-13T07:47:36.393604Z",
     "shell.execute_reply": "2024-02-13T07:47:36.392849Z",
     "shell.execute_reply.started": "2024-02-13T07:47:15.224664Z"
    },
    "ExecuteTime": {
     "end_time": "2024-02-17T03:12:15.658677Z",
     "start_time": "2024-02-17T03:09:49.147993Z"
    }
   },
   "outputs": [
    {
     "name": "stdout",
     "output_type": "stream",
     "text": [
      "time taken = 146.51 seconds\n"
     ]
    }
   ],
   "source": [
    "model_1 = LightFM(**best_hyperparams)\n",
    "\n",
    "start = time.time()\n",
    "model_1.fit(interactions_weights,\n",
    "            user_features=None,\n",
    "            item_features=None,\n",
    "            sample_weight=None,\n",
    "            epochs=num_epochs,\n",
    "            num_threads=8,\n",
    "            verbose=False)\n",
    "end = time.time()\n",
    "print(\"time taken = {0:.{1}f} seconds\".format(end - start, 2))"
   ]
  },
  {
   "cell_type": "code",
   "execution_count": null,
   "outputs": [],
   "source": [
    "class PreprocessorWithoutFeatures():\n",
    "    def __init__(self, model, dataset):\n",
    "        self.model = model\n",
    "        self.item_ids = list(dataset.mapping()[2].values())\n",
    "\n",
    "    def get_scores(self, user_ids):\n",
    "        return self.model.predict(user_ids=user_ids, item_ids=self.item_ids)\n",
    "\n",
    "\n",
    "class RecommendationSystem():\n",
    "    def __init__(self, preprocessor, dataset, interaction_matrix):\n",
    "        self.preprocessor = preprocessor\n",
    "        self.interaction_matrix = interaction_matrix\n",
    "        self.items = np.asarray(list(dataset.mapping()[2].keys()))\n",
    "        self.user_to_index_mapping = dataset.mapping()[0]\n",
    "\n",
    "    def get_batched_recommendation(self, user, k=12):\n",
    "        user_ids = self.user_to_index_mapping.get(user, None)\n",
    "        if user_ids is None:\n",
    "            return None\n",
    "\n",
    "        # Scores from model\n",
    "        scores = self.preprocessor.get_scores(user_ids)\n",
    "\n",
    "        # Top items\n",
    "        top_items = self.items[np.argsort(-scores)]\n",
    "\n",
    "        return top_items[:k]\n",
    "\n",
    "    def recommendation_for_user(self, user, k=12):\n",
    "        user_ids = self.user_to_index_mapping.get(user, None)\n",
    "        if user_ids == None:\n",
    "            print(\"User %s not provided during Training the model\" % (user))\n",
    "            return None\n",
    "\n",
    "        # Products already bought\n",
    "        known_positives = self.items[self.interaction_matrix.tocsr()[user_ids].indices]\n",
    "\n",
    "        # Scores from model prediction\n",
    "        scores = self.preprocessor.get_scores(user_ids)\n",
    "\n",
    "        # Top items\n",
    "        top_items = self.items[np.argsort(-scores)]\n",
    "\n",
    "        # Printing out the result\n",
    "        print(\"User %s\" % user)\n",
    "        print(\"     Known positives:\")\n",
    "        for x in known_positives[:k]:\n",
    "            print(\"                  %s\" % x)\n",
    "\n",
    "        print(\"     Recommended:\")\n",
    "        for x in top_items[:k]:\n",
    "            print(\"                  %s\" % x)"
   ],
   "metadata": {
    "collapsed": false
   },
   "id": "f2033a4dd1076a7a"
  },
  {
   "cell_type": "code",
   "execution_count": 21,
   "id": "04ad2c96",
   "metadata": {
    "collapsed": false,
    "execution": {
     "iopub.execute_input": "2024-02-13T07:47:36.395827Z",
     "iopub.status.busy": "2024-02-13T07:47:36.395293Z",
     "iopub.status.idle": "2024-02-13T07:47:36.428743Z",
     "shell.execute_reply": "2024-02-13T07:47:36.428168Z",
     "shell.execute_reply.started": "2024-02-13T07:47:36.395792Z"
    },
    "ExecuteTime": {
     "end_time": "2024-02-17T03:13:19.428118Z",
     "start_time": "2024-02-17T03:13:19.403183Z"
    }
   },
   "outputs": [],
   "source": [
    "preprocessor_without_features = PreprocessorWithoutFeatures(model=model_1, dataset=dataset)\n",
    "model_without_features = RecommendationSystem(preprocessor=preprocessor_without_features,\n",
    "                                              dataset=dataset,\n",
    "                                              interaction_matrix=interactions_weights)"
   ]
  },
  {
   "cell_type": "code",
   "execution_count": 22,
   "id": "61c2af86",
   "metadata": {
    "collapsed": false,
    "execution": {
     "iopub.execute_input": "2024-02-13T07:47:36.429879Z",
     "iopub.status.busy": "2024-02-13T07:47:36.429555Z",
     "iopub.status.idle": "2024-02-13T07:47:36.481961Z",
     "shell.execute_reply": "2024-02-13T07:47:36.481298Z",
     "shell.execute_reply.started": "2024-02-13T07:47:36.429853Z"
    },
    "ExecuteTime": {
     "end_time": "2024-02-17T03:13:24.088877Z",
     "start_time": "2024-02-17T03:13:24.047231Z"
    }
   },
   "outputs": [
    {
     "name": "stdout",
     "output_type": "stream",
     "text": [
      "User 00000dbacae5abe5e23885899a1fa44253a17956c6d1c3d25f88aa139fdfc657\n",
      "     Known positives:\n",
      "                  0568601043\n",
      "     Recommended:\n",
      "                  0568601043\n",
      "                  0568597007\n",
      "                  0568601007\n",
      "                  0779781006\n",
      "                  0568601030\n",
      "                  0568597006\n",
      "                  0779781015\n",
      "                  0779781013\n",
      "                  0858856005\n",
      "                  0889456002\n",
      "                  0568601044\n",
      "                  0716670009\n"
     ]
    }
   ],
   "source": [
    "model_without_features.recommendation_for_user('00000dbacae5abe5e23885899a1fa44253a17956c6d1c3d25f88aa139fdfc657', 12)"
   ]
  },
  {
   "cell_type": "markdown",
   "source": [
    "### 3.4. Prédictions à soumettre"
   ],
   "metadata": {
    "collapsed": false
   },
   "id": "6d2618ac9c3c0bd6"
  },
  {
   "cell_type": "code",
   "execution_count": 15,
   "id": "59ac68fd",
   "metadata": {
    "collapsed": false,
    "execution": {
     "iopub.execute_input": "2024-02-14T15:48:41.593808Z",
     "iopub.status.busy": "2024-02-14T15:48:41.593147Z",
     "iopub.status.idle": "2024-02-14T15:48:45.339806Z",
     "shell.execute_reply": "2024-02-14T15:48:45.339192Z",
     "shell.execute_reply.started": "2024-02-14T15:48:41.593779Z"
    },
    "is_executing": true,
    "tags": []
   },
   "outputs": [
    {
     "data": {
      "text/plain": [
       "'0706016001 0706016002 0372860001 0610776002 0759871002 0464297007 0372860002 0610776001 0399223001 0706016003 0720125001 0156231001'"
      ]
     },
     "execution_count": 15,
     "metadata": {},
     "output_type": "execute_result"
    }
   ],
   "source": [
    "top_selling_article_list = list((transactions_data['article_id'].value_counts(sort=True, ascending=False)).index)[:12]\n",
    "top_selling_article_str = ' '.join(top_selling_article_list)\n",
    "top_selling_article_str"
   ]
  },
  {
   "cell_type": "code",
   "execution_count": 16,
   "id": "66f0cba3",
   "metadata": {
    "collapsed": false,
    "execution": {
     "iopub.execute_input": "2024-02-14T15:48:51.160434Z",
     "iopub.status.busy": "2024-02-14T15:48:51.159751Z",
     "iopub.status.idle": "2024-02-14T15:48:51.549091Z",
     "shell.execute_reply": "2024-02-14T15:48:51.548474Z",
     "shell.execute_reply.started": "2024-02-14T15:48:51.160406Z"
    },
    "is_executing": true,
    "tags": []
   },
   "outputs": [],
   "source": [
    "num_cores = 8\n",
    "customer_ids = customer_data['customer_id'].unique()\n",
    "customer_id_chunks = np.array_split(customer_ids, num_cores)"
   ]
  },
  {
   "cell_type": "code",
   "execution_count": 17,
   "id": "f17d8ef3",
   "metadata": {
    "execution": {
     "iopub.execute_input": "2024-02-14T15:48:56.649131Z",
     "iopub.status.busy": "2024-02-14T15:48:56.648733Z",
     "iopub.status.idle": "2024-02-14T15:48:56.688697Z",
     "shell.execute_reply": "2024-02-14T15:48:56.688059Z",
     "shell.execute_reply.started": "2024-02-14T15:48:56.649103Z"
    },
    "tags": []
   },
   "outputs": [
    {
     "data": {
      "text/plain": [
       "0"
      ]
     },
     "execution_count": 17,
     "metadata": {},
     "output_type": "execute_result"
    }
   ],
   "source": [
    "gc.collect()"
   ]
  },
  {
   "cell_type": "code",
   "execution_count": null,
   "outputs": [],
   "source": [
    "def predict_sub_chunks(chunk, model: RecommendationSystem, top_selling_article_str):\n",
    "    final_submission = []\n",
    "    for row in tqdm(chunk):\n",
    "        try:\n",
    "            preds = model.get_batched_recommendation(row, 12)\n",
    "            if preds is not None:\n",
    "                final_submission.append(' '.join(map(str, preds)))\n",
    "            else:\n",
    "                final_submission.append(top_selling_article_str)\n",
    "        except Exception as ex:\n",
    "            print(ex)\n",
    "    return final_submission"
   ],
   "metadata": {
    "collapsed": false
   },
   "id": "13bed7d94ef0fc8f"
  },
  {
   "cell_type": "code",
   "execution_count": 21,
   "id": "3fe33e52",
   "metadata": {
    "collapsed": false,
    "execution": {
     "iopub.execute_input": "2024-02-13T07:47:40.729297Z",
     "iopub.status.busy": "2024-02-13T07:47:40.728861Z",
     "iopub.status.idle": "2024-02-13T18:48:26.443407Z",
     "shell.execute_reply": "2024-02-13T18:48:26.442584Z",
     "shell.execute_reply.started": "2024-02-13T07:47:40.729271Z"
    },
    "is_executing": true,
    "tags": []
   },
   "outputs": [
    {
     "name": "stderr",
     "output_type": "stream",
     "text": [
      " 87%|████████▋ | 148657/171498 [9:27:04<1:28:51,  4.28it/s]IOPub message rate exceeded.\n",
      "The Jupyter server will temporarily stop sending output\n",
      "to the client in order to avoid crashing it.\n",
      "To change this limit, set the config variable\n",
      "`--ServerApp.iopub_msg_rate_limit`.\n",
      "\n",
      "Current values:\n",
      "ServerApp.iopub_msg_rate_limit=1000.0 (msgs/sec)\n",
      "ServerApp.rate_limit_window=3.0 (secs)\n",
      "\n",
      " 86%|████████▌ | 147505/171497 [9:32:52<1:32:46,  4.31it/s]IOPub message rate exceeded.\n",
      "The Jupyter server will temporarily stop sending output\n",
      "to the client in order to avoid crashing it.\n",
      "To change this limit, set the config variable\n",
      "`--ServerApp.iopub_msg_rate_limit`.\n",
      "\n",
      "Current values:\n",
      "ServerApp.iopub_msg_rate_limit=1000.0 (msgs/sec)\n",
      "ServerApp.rate_limit_window=3.0 (secs)\n",
      "\n",
      " 88%|████████▊ | 150745/171498 [9:39:00<1:15:12,  4.60it/s]IOPub message rate exceeded.\n",
      "The Jupyter server will temporarily stop sending output\n",
      "to the client in order to avoid crashing it.\n",
      "To change this limit, set the config variable\n",
      "`--ServerApp.iopub_msg_rate_limit`.\n",
      "\n",
      "Current values:\n",
      "ServerApp.iopub_msg_rate_limit=1000.0 (msgs/sec)\n",
      "ServerApp.rate_limit_window=3.0 (secs)\n",
      "\n",
      " 87%|████████▋ | 149061/171497 [9:44:49<1:24:42,  4.41it/s]IOPub message rate exceeded.\n",
      "The Jupyter server will temporarily stop sending output\n",
      "to the client in order to avoid crashing it.\n",
      "To change this limit, set the config variable\n",
      "`--ServerApp.iopub_msg_rate_limit`.\n",
      "\n",
      "Current values:\n",
      "ServerApp.iopub_msg_rate_limit=1000.0 (msgs/sec)\n",
      "ServerApp.rate_limit_window=3.0 (secs)\n",
      "\n",
      " 91%|█████████ | 156412/171498 [9:51:01<58:44,  4.28it/s]s]IOPub message rate exceeded.\n",
      "The Jupyter server will temporarily stop sending output\n",
      "to the client in order to avoid crashing it.\n",
      "To change this limit, set the config variable\n",
      "`--ServerApp.iopub_msg_rate_limit`.\n",
      "\n",
      "Current values:\n",
      "ServerApp.iopub_msg_rate_limit=1000.0 (msgs/sec)\n",
      "ServerApp.rate_limit_window=3.0 (secs)\n",
      "\n",
      " 89%|████████▉ | 152917/171497 [9:56:39<1:14:14,  4.17it/s]IOPub message rate exceeded.\n",
      "The Jupyter server will temporarily stop sending output\n",
      "to the client in order to avoid crashing it.\n",
      "To change this limit, set the config variable\n",
      "`--ServerApp.iopub_msg_rate_limit`.\n",
      "\n",
      "Current values:\n",
      "ServerApp.iopub_msg_rate_limit=1000.0 (msgs/sec)\n",
      "ServerApp.rate_limit_window=3.0 (secs)\n",
      "\n",
      " 90%|████████▉ | 154295/171497 [10:02:01<1:08:13,  4.20it/s]IOPub message rate exceeded.\n",
      "The Jupyter server will temporarily stop sending output\n",
      "to the client in order to avoid crashing it.\n",
      "To change this limit, set the config variable\n",
      "`--ServerApp.iopub_msg_rate_limit`.\n",
      "\n",
      "Current values:\n",
      "ServerApp.iopub_msg_rate_limit=1000.0 (msgs/sec)\n",
      "ServerApp.rate_limit_window=3.0 (secs)\n",
      "\n",
      " 94%|█████████▍| 160998/171498 [10:08:26<39:40,  4.41it/s]s]IOPub message rate exceeded.\n",
      "The Jupyter server will temporarily stop sending output\n",
      "to the client in order to avoid crashing it.\n",
      "To change this limit, set the config variable\n",
      "`--ServerApp.iopub_msg_rate_limit`.\n",
      "\n",
      "Current values:\n",
      "ServerApp.iopub_msg_rate_limit=1000.0 (msgs/sec)\n",
      "ServerApp.rate_limit_window=3.0 (secs)\n",
      "\n",
      " 94%|█████████▍| 161485/171498 [10:16:15<39:16,  4.25it/s]  IOPub message rate exceeded.\n",
      "The Jupyter server will temporarily stop sending output\n",
      "to the client in order to avoid crashing it.\n",
      "To change this limit, set the config variable\n",
      "`--ServerApp.iopub_msg_rate_limit`.\n",
      "\n",
      "Current values:\n",
      "ServerApp.iopub_msg_rate_limit=1000.0 (msgs/sec)\n",
      "ServerApp.rate_limit_window=3.0 (secs)\n",
      "\n",
      " 95%|█████████▌| 163260/171498 [10:23:03<31:11,  4.40it/s]IOPub message rate exceeded.\n",
      "The Jupyter server will temporarily stop sending output\n",
      "to the client in order to avoid crashing it.\n",
      "To change this limit, set the config variable\n",
      "`--ServerApp.iopub_msg_rate_limit`.\n",
      "\n",
      "Current values:\n",
      "ServerApp.iopub_msg_rate_limit=1000.0 (msgs/sec)\n",
      "ServerApp.rate_limit_window=3.0 (secs)\n",
      "\n",
      " 94%|█████████▎| 160574/171497 [10:26:26<42:27,  4.29it/s]IOPub message rate exceeded.\n",
      "The Jupyter server will temporarily stop sending output\n",
      "to the client in order to avoid crashing it.\n",
      "To change this limit, set the config variable\n",
      "`--ServerApp.iopub_msg_rate_limit`.\n",
      "\n",
      "Current values:\n",
      "ServerApp.iopub_msg_rate_limit=1000.0 (msgs/sec)\n",
      "ServerApp.rate_limit_window=3.0 (secs)\n",
      "\n",
      " 94%|█████████▎| 160640/171497 [10:30:08<43:10,  4.19it/s]IOPub message rate exceeded.\n",
      "The Jupyter server will temporarily stop sending output\n",
      "to the client in order to avoid crashing it.\n",
      "To change this limit, set the config variable\n",
      "`--ServerApp.iopub_msg_rate_limit`.\n",
      "\n",
      "Current values:\n",
      "ServerApp.iopub_msg_rate_limit=1000.0 (msgs/sec)\n",
      "ServerApp.rate_limit_window=3.0 (secs)\n",
      "\n",
      " 97%|█████████▋| 167186/171498 [10:34:17<16:03,  4.48it/s]IOPub message rate exceeded.\n",
      "The Jupyter server will temporarily stop sending output\n",
      "to the client in order to avoid crashing it.\n",
      "To change this limit, set the config variable\n",
      "`--ServerApp.iopub_msg_rate_limit`.\n",
      "\n",
      "Current values:\n",
      "ServerApp.iopub_msg_rate_limit=1000.0 (msgs/sec)\n",
      "ServerApp.rate_limit_window=3.0 (secs)\n",
      "\n",
      " 97%|█████████▋| 166131/171498 [10:37:58<19:58,  4.48it/s]IOPub message rate exceeded.\n",
      "The Jupyter server will temporarily stop sending output\n",
      "to the client in order to avoid crashing it.\n",
      "To change this limit, set the config variable\n",
      "`--ServerApp.iopub_msg_rate_limit`.\n",
      "\n",
      "Current values:\n",
      "ServerApp.iopub_msg_rate_limit=1000.0 (msgs/sec)\n",
      "ServerApp.rate_limit_window=3.0 (secs)\n",
      "\n",
      " 97%|█████████▋| 167131/171498 [10:41:48<15:11,  4.79it/s]IOPub message rate exceeded.\n",
      "The Jupyter server will temporarily stop sending output\n",
      "to the client in order to avoid crashing it.\n",
      "To change this limit, set the config variable\n",
      "`--ServerApp.iopub_msg_rate_limit`.\n",
      "\n",
      "Current values:\n",
      "ServerApp.iopub_msg_rate_limit=1000.0 (msgs/sec)\n",
      "ServerApp.rate_limit_window=3.0 (secs)\n",
      "\n",
      " 98%|█████████▊| 167938/171498 [10:44:53<14:00,  4.24it/s]IOPub message rate exceeded.\n",
      "The Jupyter server will temporarily stop sending output\n",
      "to the client in order to avoid crashing it.\n",
      "To change this limit, set the config variable\n",
      "`--ServerApp.iopub_msg_rate_limit`.\n",
      "\n",
      "Current values:\n",
      "ServerApp.iopub_msg_rate_limit=1000.0 (msgs/sec)\n",
      "ServerApp.rate_limit_window=3.0 (secs)\n",
      "\n",
      "100%|██████████| 171498/171498 [10:48:17<00:00,  4.41it/s]\n",
      " 97%|█████████▋| 166271/171497 [10:48:29<18:14,  4.78it/s]IOPub message rate exceeded.\n",
      "The Jupyter server will temporarily stop sending output\n",
      "to the client in order to avoid crashing it.\n",
      "To change this limit, set the config variable\n",
      "`--ServerApp.iopub_msg_rate_limit`.\n",
      "\n",
      "Current values:\n",
      "ServerApp.iopub_msg_rate_limit=1000.0 (msgs/sec)\n",
      "ServerApp.rate_limit_window=3.0 (secs)\n",
      "\n",
      "100%|██████████| 171498/171498 [10:50:18<00:00,  4.40it/s]\n",
      "100%|█████████▉| 171226/171498 [10:52:33<00:47,  5.74it/s]IOPub message rate exceeded.\n",
      "The Jupyter server will temporarily stop sending output\n",
      "to the client in order to avoid crashing it.\n",
      "To change this limit, set the config variable\n",
      "`--ServerApp.iopub_msg_rate_limit`.\n",
      "\n",
      "Current values:\n",
      "ServerApp.iopub_msg_rate_limit=1000.0 (msgs/sec)\n",
      "ServerApp.rate_limit_window=3.0 (secs)\n",
      "\n",
      "100%|██████████| 171498/171498 [10:55:42<00:00,  4.36it/s]\n",
      " 98%|█████████▊| 168164/171497 [10:56:09<06:29,  8.56it/s]IOPub message rate exceeded.\n",
      "The Jupyter server will temporarily stop sending output\n",
      "to the client in order to avoid crashing it.\n",
      "To change this limit, set the config variable\n",
      "`--ServerApp.iopub_msg_rate_limit`.\n",
      "\n",
      "Current values:\n",
      "ServerApp.iopub_msg_rate_limit=1000.0 (msgs/sec)\n",
      "ServerApp.rate_limit_window=3.0 (secs)\n",
      "\n",
      "100%|██████████| 171497/171497 [10:58:56<00:00,  4.34it/s]\n",
      "100%|██████████| 171497/171497 [10:59:38<00:00,  4.33it/s]\n",
      "100%|██████████| 171497/171497 [11:00:13<00:00,  4.33it/s]\n"
     ]
    }
   ],
   "source": [
    "predict = partial(predict_sub_chunks, model=model_without_features,\n",
    "                  top_selling_article_str=top_selling_article_str)\n",
    "\n",
    "with Pool(num_cores) as pool:\n",
    "    result = pool.map(predict, customer_id_chunks)"
   ]
  },
  {
   "cell_type": "code",
   "execution_count": 22,
   "id": "27e5ac8c",
   "metadata": {
    "collapsed": false,
    "execution": {
     "iopub.execute_input": "2024-02-13T18:48:26.444818Z",
     "iopub.status.busy": "2024-02-13T18:48:26.444479Z",
     "iopub.status.idle": "2024-02-13T18:48:26.499122Z",
     "shell.execute_reply": "2024-02-13T18:48:26.498529Z",
     "shell.execute_reply.started": "2024-02-13T18:48:26.444786Z"
    },
    "is_executing": true
   },
   "outputs": [
    {
     "name": "stdout",
     "output_type": "stream",
     "text": [
      "1371980\n",
      "1371980\n"
     ]
    }
   ],
   "source": [
    "result_combined = list(itertools.chain(result[0], result[1], result[2], result[3],\n",
    "                                       result[4], result[5], result[6], result[7]))\n",
    "print(len(customer_ids))\n",
    "print(len(result_combined))"
   ]
  },
  {
   "cell_type": "code",
   "execution_count": 24,
   "id": "ae39b819",
   "metadata": {
    "execution": {
     "iopub.execute_input": "2024-02-13T18:48:26.500304Z",
     "iopub.status.busy": "2024-02-13T18:48:26.500029Z",
     "iopub.status.idle": "2024-02-13T18:48:33.435964Z",
     "shell.execute_reply": "2024-02-13T18:48:33.435323Z",
     "shell.execute_reply.started": "2024-02-13T18:48:26.500281Z"
    },
    "is_executing": true
   },
   "outputs": [
    {
     "data": {
      "text/html": [
       "<div>\n",
       "<style scoped>\n",
       "    .dataframe tbody tr th:only-of-type {\n",
       "        vertical-align: middle;\n",
       "    }\n",
       "\n",
       "    .dataframe tbody tr th {\n",
       "        vertical-align: top;\n",
       "    }\n",
       "\n",
       "    .dataframe thead th {\n",
       "        text-align: right;\n",
       "    }\n",
       "</style>\n",
       "<table border=\"1\" class=\"dataframe\">\n",
       "  <thead>\n",
       "    <tr style=\"text-align: right;\">\n",
       "      <th></th>\n",
       "      <th>customer_id</th>\n",
       "      <th>prediction</th>\n",
       "    </tr>\n",
       "  </thead>\n",
       "  <tbody>\n",
       "    <tr>\n",
       "      <th>0</th>\n",
       "      <td>00000dbacae5abe5e23885899a1fa44253a17956c6d1c3...</td>\n",
       "      <td>0568601043 0858856005 0779781015 0695632002 07...</td>\n",
       "    </tr>\n",
       "    <tr>\n",
       "      <th>1</th>\n",
       "      <td>0000423b00ade91418cceaf3b26c6af3dd342b51fd051e...</td>\n",
       "      <td>0552716012 0942069001 0799365013 0633152012 06...</td>\n",
       "    </tr>\n",
       "    <tr>\n",
       "      <th>2</th>\n",
       "      <td>000058a12d5b43e67d225668fa1f8d618c13dc232df0ca...</td>\n",
       "      <td>0794321007 0805000007 0805000008 0730683062 08...</td>\n",
       "    </tr>\n",
       "    <tr>\n",
       "      <th>3</th>\n",
       "      <td>00005ca1c9ed5f5146b52ac8639a40ca9d57aeff4d1bd2...</td>\n",
       "      <td>0799365013 0633152012 0552716012 0942069001 08...</td>\n",
       "    </tr>\n",
       "    <tr>\n",
       "      <th>4</th>\n",
       "      <td>00006413d8573cd20ed7128e53b7b13819fe5cfc2d801f...</td>\n",
       "      <td>0552716012 0799365013 0633152012 0942069001 08...</td>\n",
       "    </tr>\n",
       "  </tbody>\n",
       "</table>\n",
       "</div>"
      ],
      "text/plain": [
       "                                         customer_id                                         prediction\n",
       "0  00000dbacae5abe5e23885899a1fa44253a17956c6d1c3...  0568601043 0858856005 0779781015 0695632002 07...\n",
       "1  0000423b00ade91418cceaf3b26c6af3dd342b51fd051e...  0552716012 0942069001 0799365013 0633152012 06...\n",
       "2  000058a12d5b43e67d225668fa1f8d618c13dc232df0ca...  0794321007 0805000007 0805000008 0730683062 08...\n",
       "3  00005ca1c9ed5f5146b52ac8639a40ca9d57aeff4d1bd2...  0799365013 0633152012 0552716012 0942069001 08...\n",
       "4  00006413d8573cd20ed7128e53b7b13819fe5cfc2d801f...  0552716012 0799365013 0633152012 0942069001 08..."
      ]
     },
     "execution_count": 24,
     "metadata": {},
     "output_type": "execute_result"
    }
   ],
   "source": [
    "submission_data_1 = pd.DataFrame({'customer_id': customer_ids, 'prediction': result_combined})\n",
    "submission_data_1.head()"
   ]
  },
  {
   "cell_type": "markdown",
   "id": "2181b2ec",
   "metadata": {},
   "source": [
    "## 4. Recommandations basées sur un filtrage hybride avec les caractéristiques d'articles et d'utilisateurs\n",
    "\n",
    "### 4.1. Prétraitement des données"
   ]
  },
  {
   "cell_type": "markdown",
   "id": "cc0400d8",
   "metadata": {},
   "source": [
    "Étant donné que chaque article présente de nombreuses caractéristiques, nous devons rechercher, les caractéristiques les plus pertinentes pour nos recommandations. Nous choisissons ainsi l'age et le code postal pour les utilisateurs et toutes les caractéristiques non redondantes pour les articles. \n",
    "\n",
    "- Prétraitement des utilisateurs"
   ]
  },
  {
   "cell_type": "code",
   "execution_count": 27,
   "id": "b7249092",
   "metadata": {
    "collapsed": false,
    "execution": {
     "iopub.execute_input": "2024-02-13T18:48:33.437125Z",
     "iopub.status.busy": "2024-02-13T18:48:33.436794Z",
     "iopub.status.idle": "2024-02-13T18:48:33.446111Z",
     "shell.execute_reply": "2024-02-13T18:48:33.445292Z",
     "shell.execute_reply.started": "2024-02-13T18:48:33.437099Z"
    },
    "is_executing": true
   },
   "outputs": [
    {
     "name": "stdout",
     "output_type": "stream",
     "text": [
      "(1371980, 7)\n"
     ]
    },
    {
     "data": {
      "text/html": [
       "<div>\n",
       "<style scoped>\n",
       "    .dataframe tbody tr th:only-of-type {\n",
       "        vertical-align: middle;\n",
       "    }\n",
       "\n",
       "    .dataframe tbody tr th {\n",
       "        vertical-align: top;\n",
       "    }\n",
       "\n",
       "    .dataframe thead th {\n",
       "        text-align: right;\n",
       "    }\n",
       "</style>\n",
       "<table border=\"1\" class=\"dataframe\">\n",
       "  <thead>\n",
       "    <tr style=\"text-align: right;\">\n",
       "      <th></th>\n",
       "      <th>customer_id</th>\n",
       "      <th>FN</th>\n",
       "      <th>Active</th>\n",
       "      <th>club_member_status</th>\n",
       "      <th>fashion_news_frequency</th>\n",
       "      <th>age</th>\n",
       "      <th>postal_code</th>\n",
       "    </tr>\n",
       "  </thead>\n",
       "  <tbody>\n",
       "    <tr>\n",
       "      <th>0</th>\n",
       "      <td>00000dbacae5abe5e23885899a1fa44253a17956c6d1c3...</td>\n",
       "      <td>NaN</td>\n",
       "      <td>NaN</td>\n",
       "      <td>ACTIVE</td>\n",
       "      <td>NONE</td>\n",
       "      <td>49.00</td>\n",
       "      <td>52043ee2162cf5aa7ee79974281641c6f11a68d276429a...</td>\n",
       "    </tr>\n",
       "    <tr>\n",
       "      <th>1</th>\n",
       "      <td>0000423b00ade91418cceaf3b26c6af3dd342b51fd051e...</td>\n",
       "      <td>NaN</td>\n",
       "      <td>NaN</td>\n",
       "      <td>ACTIVE</td>\n",
       "      <td>NONE</td>\n",
       "      <td>25.00</td>\n",
       "      <td>2973abc54daa8a5f8ccfe9362140c63247c5eee03f1d93...</td>\n",
       "    </tr>\n",
       "    <tr>\n",
       "      <th>2</th>\n",
       "      <td>000058a12d5b43e67d225668fa1f8d618c13dc232df0ca...</td>\n",
       "      <td>NaN</td>\n",
       "      <td>NaN</td>\n",
       "      <td>ACTIVE</td>\n",
       "      <td>NONE</td>\n",
       "      <td>24.00</td>\n",
       "      <td>64f17e6a330a85798e4998f62d0930d14db8db1c054af6...</td>\n",
       "    </tr>\n",
       "    <tr>\n",
       "      <th>3</th>\n",
       "      <td>00005ca1c9ed5f5146b52ac8639a40ca9d57aeff4d1bd2...</td>\n",
       "      <td>NaN</td>\n",
       "      <td>NaN</td>\n",
       "      <td>ACTIVE</td>\n",
       "      <td>NONE</td>\n",
       "      <td>54.00</td>\n",
       "      <td>5d36574f52495e81f019b680c843c443bd343d5ca5b1c2...</td>\n",
       "    </tr>\n",
       "    <tr>\n",
       "      <th>4</th>\n",
       "      <td>00006413d8573cd20ed7128e53b7b13819fe5cfc2d801f...</td>\n",
       "      <td>1.00</td>\n",
       "      <td>1.00</td>\n",
       "      <td>ACTIVE</td>\n",
       "      <td>Regularly</td>\n",
       "      <td>52.00</td>\n",
       "      <td>25fa5ddee9aac01b35208d01736e57942317d756b32ddd...</td>\n",
       "    </tr>\n",
       "  </tbody>\n",
       "</table>\n",
       "</div>"
      ],
      "text/plain": [
       "                                         customer_id   FN  Active club_member_status fashion_news_frequency   age                                        postal_code\n",
       "0  00000dbacae5abe5e23885899a1fa44253a17956c6d1c3...  NaN     NaN             ACTIVE                   NONE 49.00  52043ee2162cf5aa7ee79974281641c6f11a68d276429a...\n",
       "1  0000423b00ade91418cceaf3b26c6af3dd342b51fd051e...  NaN     NaN             ACTIVE                   NONE 25.00  2973abc54daa8a5f8ccfe9362140c63247c5eee03f1d93...\n",
       "2  000058a12d5b43e67d225668fa1f8d618c13dc232df0ca...  NaN     NaN             ACTIVE                   NONE 24.00  64f17e6a330a85798e4998f62d0930d14db8db1c054af6...\n",
       "3  00005ca1c9ed5f5146b52ac8639a40ca9d57aeff4d1bd2...  NaN     NaN             ACTIVE                   NONE 54.00  5d36574f52495e81f019b680c843c443bd343d5ca5b1c2...\n",
       "4  00006413d8573cd20ed7128e53b7b13819fe5cfc2d801f... 1.00    1.00             ACTIVE              Regularly 52.00  25fa5ddee9aac01b35208d01736e57942317d756b32ddd..."
      ]
     },
     "execution_count": 27,
     "metadata": {},
     "output_type": "execute_result"
    }
   ],
   "source": [
    "print(customer_data.shape)\n",
    "customer_data.head()"
   ]
  },
  {
   "cell_type": "code",
   "execution_count": 18,
   "id": "179a27fc",
   "metadata": {
    "collapsed": false,
    "execution": {
     "iopub.execute_input": "2024-02-14T15:49:16.934967Z",
     "iopub.status.busy": "2024-02-14T15:49:16.934304Z",
     "iopub.status.idle": "2024-02-14T15:49:16.985217Z",
     "shell.execute_reply": "2024-02-14T15:49:16.984118Z",
     "shell.execute_reply.started": "2024-02-14T15:49:16.934940Z"
    },
    "is_executing": true,
    "tags": []
   },
   "outputs": [
    {
     "name": "stdout",
     "output_type": "stream",
     "text": [
      "(1371980, 3)\n"
     ]
    },
    {
     "data": {
      "text/html": [
       "<div>\n",
       "<style scoped>\n",
       "    .dataframe tbody tr th:only-of-type {\n",
       "        vertical-align: middle;\n",
       "    }\n",
       "\n",
       "    .dataframe tbody tr th {\n",
       "        vertical-align: top;\n",
       "    }\n",
       "\n",
       "    .dataframe thead th {\n",
       "        text-align: right;\n",
       "    }\n",
       "</style>\n",
       "<table border=\"1\" class=\"dataframe\">\n",
       "  <thead>\n",
       "    <tr style=\"text-align: right;\">\n",
       "      <th></th>\n",
       "      <th>customer_id</th>\n",
       "      <th>age</th>\n",
       "      <th>postal_code</th>\n",
       "    </tr>\n",
       "  </thead>\n",
       "  <tbody>\n",
       "    <tr>\n",
       "      <th>0</th>\n",
       "      <td>00000dbacae5abe5e23885899a1fa44253a17956c6d1c3...</td>\n",
       "      <td>49.00</td>\n",
       "      <td>52043ee2162cf5aa7ee79974281641c6f11a68d276429a...</td>\n",
       "    </tr>\n",
       "    <tr>\n",
       "      <th>1</th>\n",
       "      <td>0000423b00ade91418cceaf3b26c6af3dd342b51fd051e...</td>\n",
       "      <td>25.00</td>\n",
       "      <td>2973abc54daa8a5f8ccfe9362140c63247c5eee03f1d93...</td>\n",
       "    </tr>\n",
       "    <tr>\n",
       "      <th>2</th>\n",
       "      <td>000058a12d5b43e67d225668fa1f8d618c13dc232df0ca...</td>\n",
       "      <td>24.00</td>\n",
       "      <td>64f17e6a330a85798e4998f62d0930d14db8db1c054af6...</td>\n",
       "    </tr>\n",
       "    <tr>\n",
       "      <th>3</th>\n",
       "      <td>00005ca1c9ed5f5146b52ac8639a40ca9d57aeff4d1bd2...</td>\n",
       "      <td>54.00</td>\n",
       "      <td>5d36574f52495e81f019b680c843c443bd343d5ca5b1c2...</td>\n",
       "    </tr>\n",
       "    <tr>\n",
       "      <th>4</th>\n",
       "      <td>00006413d8573cd20ed7128e53b7b13819fe5cfc2d801f...</td>\n",
       "      <td>52.00</td>\n",
       "      <td>25fa5ddee9aac01b35208d01736e57942317d756b32ddd...</td>\n",
       "    </tr>\n",
       "  </tbody>\n",
       "</table>\n",
       "</div>"
      ],
      "text/plain": [
       "                                         customer_id   age                                        postal_code\n",
       "0  00000dbacae5abe5e23885899a1fa44253a17956c6d1c3... 49.00  52043ee2162cf5aa7ee79974281641c6f11a68d276429a...\n",
       "1  0000423b00ade91418cceaf3b26c6af3dd342b51fd051e... 25.00  2973abc54daa8a5f8ccfe9362140c63247c5eee03f1d93...\n",
       "2  000058a12d5b43e67d225668fa1f8d618c13dc232df0ca... 24.00  64f17e6a330a85798e4998f62d0930d14db8db1c054af6...\n",
       "3  00005ca1c9ed5f5146b52ac8639a40ca9d57aeff4d1bd2... 54.00  5d36574f52495e81f019b680c843c443bd343d5ca5b1c2...\n",
       "4  00006413d8573cd20ed7128e53b7b13819fe5cfc2d801f... 52.00  25fa5ddee9aac01b35208d01736e57942317d756b32ddd..."
      ]
     },
     "execution_count": 18,
     "metadata": {},
     "output_type": "execute_result"
    }
   ],
   "source": [
    "user_features_list = [\"age\", \"postal_code\"]\n",
    "\n",
    "customer_data_min = customer_data[[\"customer_id\"] + user_features_list]\n",
    "print(customer_data_min.shape)\n",
    "customer_data_min.head()"
   ]
  },
  {
   "cell_type": "markdown",
   "source": [
    "Nous encodons les caractéristiques des utilisateurs qui sont catégorielles en labels plus légers pour optimiser les performances des traitements. "
   ],
   "metadata": {
    "collapsed": false
   },
   "id": "be6d3db313ee481e"
  },
  {
   "cell_type": "code",
   "execution_count": 19,
   "id": "133972a6",
   "metadata": {
    "collapsed": false,
    "execution": {
     "iopub.execute_input": "2024-02-14T15:49:27.221722Z",
     "iopub.status.busy": "2024-02-14T15:49:27.221331Z",
     "iopub.status.idle": "2024-02-14T15:49:30.352441Z",
     "shell.execute_reply": "2024-02-14T15:49:30.351820Z",
     "shell.execute_reply.started": "2024-02-14T15:49:27.221695Z"
    },
    "is_executing": true,
    "tags": []
   },
   "outputs": [
    {
     "name": "stdout",
     "output_type": "stream",
     "text": [
      "(1371980, 3)\n"
     ]
    },
    {
     "data": {
      "text/html": [
       "<div>\n",
       "<style scoped>\n",
       "    .dataframe tbody tr th:only-of-type {\n",
       "        vertical-align: middle;\n",
       "    }\n",
       "\n",
       "    .dataframe tbody tr th {\n",
       "        vertical-align: top;\n",
       "    }\n",
       "\n",
       "    .dataframe thead th {\n",
       "        text-align: right;\n",
       "    }\n",
       "</style>\n",
       "<table border=\"1\" class=\"dataframe\">\n",
       "  <thead>\n",
       "    <tr style=\"text-align: right;\">\n",
       "      <th></th>\n",
       "      <th>customer_id</th>\n",
       "      <th>age</th>\n",
       "      <th>postal_code</th>\n",
       "    </tr>\n",
       "  </thead>\n",
       "  <tbody>\n",
       "    <tr>\n",
       "      <th>0</th>\n",
       "      <td>00000dbacae5abe5e23885899a1fa44253a17956c6d1c3...</td>\n",
       "      <td>49.0</td>\n",
       "      <td>112978</td>\n",
       "    </tr>\n",
       "    <tr>\n",
       "      <th>1</th>\n",
       "      <td>0000423b00ade91418cceaf3b26c6af3dd342b51fd051e...</td>\n",
       "      <td>25.0</td>\n",
       "      <td>57312</td>\n",
       "    </tr>\n",
       "    <tr>\n",
       "      <th>2</th>\n",
       "      <td>000058a12d5b43e67d225668fa1f8d618c13dc232df0ca...</td>\n",
       "      <td>24.0</td>\n",
       "      <td>139156</td>\n",
       "    </tr>\n",
       "    <tr>\n",
       "      <th>3</th>\n",
       "      <td>00005ca1c9ed5f5146b52ac8639a40ca9d57aeff4d1bd2...</td>\n",
       "      <td>54.0</td>\n",
       "      <td>128529</td>\n",
       "    </tr>\n",
       "    <tr>\n",
       "      <th>4</th>\n",
       "      <td>00006413d8573cd20ed7128e53b7b13819fe5cfc2d801f...</td>\n",
       "      <td>52.0</td>\n",
       "      <td>52371</td>\n",
       "    </tr>\n",
       "  </tbody>\n",
       "</table>\n",
       "</div>"
      ],
      "text/plain": [
       "                                         customer_id   age postal_code\n",
       "0  00000dbacae5abe5e23885899a1fa44253a17956c6d1c3...  49.0      112978\n",
       "1  0000423b00ade91418cceaf3b26c6af3dd342b51fd051e...  25.0       57312\n",
       "2  000058a12d5b43e67d225668fa1f8d618c13dc232df0ca...  24.0      139156\n",
       "3  00005ca1c9ed5f5146b52ac8639a40ca9d57aeff4d1bd2...  54.0      128529\n",
       "4  00006413d8573cd20ed7128e53b7b13819fe5cfc2d801f...  52.0       52371"
      ]
     },
     "execution_count": 19,
     "metadata": {},
     "output_type": "execute_result"
    }
   ],
   "source": [
    "le_customer_data = LabelEncoder()\n",
    "\n",
    "customer_data_min[\"postal_code\"] = customer_data_min[[\"postal_code\"]].apply(\n",
    "    lambda x: le_customer_data.fit_transform(x))\n",
    "customer_data_min[user_features_list] = customer_data_min[user_features_list].astype(str)\n",
    "print(customer_data_min.shape)\n",
    "customer_data_min.head()"
   ]
  },
  {
   "cell_type": "code",
   "execution_count": 20,
   "id": "a3baa7e9",
   "metadata": {
    "collapsed": false,
    "execution": {
     "iopub.execute_input": "2024-02-14T15:49:43.551129Z",
     "iopub.status.busy": "2024-02-14T15:49:43.550349Z",
     "iopub.status.idle": "2024-02-14T15:49:43.556836Z",
     "shell.execute_reply": "2024-02-14T15:49:43.555993Z",
     "shell.execute_reply.started": "2024-02-14T15:49:43.551092Z"
    },
    "is_executing": true,
    "tags": []
   },
   "outputs": [
    {
     "data": {
      "text/plain": [
       "customer_id    object\n",
       "age            object\n",
       "postal_code    object\n",
       "dtype: object"
      ]
     },
     "execution_count": 20,
     "metadata": {},
     "output_type": "execute_result"
    }
   ],
   "source": [
    "customer_data_min.dtypes"
   ]
  },
  {
   "cell_type": "markdown",
   "id": "cd45e686",
   "metadata": {},
   "source": [
    "- Prétraitement des articles"
   ]
  },
  {
   "cell_type": "code",
   "execution_count": 21,
   "id": "c967ef95",
   "metadata": {
    "collapsed": false,
    "execution": {
     "iopub.execute_input": "2024-02-14T15:49:59.231204Z",
     "iopub.status.busy": "2024-02-14T15:49:59.230824Z",
     "iopub.status.idle": "2024-02-14T15:49:59.244981Z",
     "shell.execute_reply": "2024-02-14T15:49:59.244423Z",
     "shell.execute_reply.started": "2024-02-14T15:49:59.231177Z"
    },
    "is_executing": true,
    "tags": []
   },
   "outputs": [
    {
     "name": "stdout",
     "output_type": "stream",
     "text": [
      "(105542, 25)\n"
     ]
    },
    {
     "data": {
      "text/html": [
       "<div>\n",
       "<style scoped>\n",
       "    .dataframe tbody tr th:only-of-type {\n",
       "        vertical-align: middle;\n",
       "    }\n",
       "\n",
       "    .dataframe tbody tr th {\n",
       "        vertical-align: top;\n",
       "    }\n",
       "\n",
       "    .dataframe thead th {\n",
       "        text-align: right;\n",
       "    }\n",
       "</style>\n",
       "<table border=\"1\" class=\"dataframe\">\n",
       "  <thead>\n",
       "    <tr style=\"text-align: right;\">\n",
       "      <th></th>\n",
       "      <th>article_id</th>\n",
       "      <th>product_code</th>\n",
       "      <th>prod_name</th>\n",
       "      <th>product_type_no</th>\n",
       "      <th>product_type_name</th>\n",
       "      <th>product_group_name</th>\n",
       "      <th>graphical_appearance_no</th>\n",
       "      <th>graphical_appearance_name</th>\n",
       "      <th>colour_group_code</th>\n",
       "      <th>colour_group_name</th>\n",
       "      <th>perceived_colour_value_id</th>\n",
       "      <th>perceived_colour_value_name</th>\n",
       "      <th>perceived_colour_master_id</th>\n",
       "      <th>perceived_colour_master_name</th>\n",
       "      <th>department_no</th>\n",
       "      <th>department_name</th>\n",
       "      <th>index_code</th>\n",
       "      <th>index_name</th>\n",
       "      <th>index_group_no</th>\n",
       "      <th>index_group_name</th>\n",
       "      <th>section_no</th>\n",
       "      <th>section_name</th>\n",
       "      <th>garment_group_no</th>\n",
       "      <th>garment_group_name</th>\n",
       "      <th>detail_desc</th>\n",
       "    </tr>\n",
       "  </thead>\n",
       "  <tbody>\n",
       "    <tr>\n",
       "      <th>0</th>\n",
       "      <td>0108775015</td>\n",
       "      <td>108775</td>\n",
       "      <td>Strap top</td>\n",
       "      <td>253</td>\n",
       "      <td>Vest top</td>\n",
       "      <td>Garment Upper body</td>\n",
       "      <td>1010016</td>\n",
       "      <td>Solid</td>\n",
       "      <td>9</td>\n",
       "      <td>Black</td>\n",
       "      <td>4</td>\n",
       "      <td>Dark</td>\n",
       "      <td>5</td>\n",
       "      <td>Black</td>\n",
       "      <td>1676</td>\n",
       "      <td>Jersey Basic</td>\n",
       "      <td>A</td>\n",
       "      <td>Ladieswear</td>\n",
       "      <td>1</td>\n",
       "      <td>Ladieswear</td>\n",
       "      <td>16</td>\n",
       "      <td>Womens Everyday Basics</td>\n",
       "      <td>1002</td>\n",
       "      <td>Jersey Basic</td>\n",
       "      <td>Jersey top with narrow shoulder straps.</td>\n",
       "    </tr>\n",
       "    <tr>\n",
       "      <th>1</th>\n",
       "      <td>0108775044</td>\n",
       "      <td>108775</td>\n",
       "      <td>Strap top</td>\n",
       "      <td>253</td>\n",
       "      <td>Vest top</td>\n",
       "      <td>Garment Upper body</td>\n",
       "      <td>1010016</td>\n",
       "      <td>Solid</td>\n",
       "      <td>10</td>\n",
       "      <td>White</td>\n",
       "      <td>3</td>\n",
       "      <td>Light</td>\n",
       "      <td>9</td>\n",
       "      <td>White</td>\n",
       "      <td>1676</td>\n",
       "      <td>Jersey Basic</td>\n",
       "      <td>A</td>\n",
       "      <td>Ladieswear</td>\n",
       "      <td>1</td>\n",
       "      <td>Ladieswear</td>\n",
       "      <td>16</td>\n",
       "      <td>Womens Everyday Basics</td>\n",
       "      <td>1002</td>\n",
       "      <td>Jersey Basic</td>\n",
       "      <td>Jersey top with narrow shoulder straps.</td>\n",
       "    </tr>\n",
       "    <tr>\n",
       "      <th>2</th>\n",
       "      <td>0108775051</td>\n",
       "      <td>108775</td>\n",
       "      <td>Strap top (1)</td>\n",
       "      <td>253</td>\n",
       "      <td>Vest top</td>\n",
       "      <td>Garment Upper body</td>\n",
       "      <td>1010017</td>\n",
       "      <td>Stripe</td>\n",
       "      <td>11</td>\n",
       "      <td>Off White</td>\n",
       "      <td>1</td>\n",
       "      <td>Dusty Light</td>\n",
       "      <td>9</td>\n",
       "      <td>White</td>\n",
       "      <td>1676</td>\n",
       "      <td>Jersey Basic</td>\n",
       "      <td>A</td>\n",
       "      <td>Ladieswear</td>\n",
       "      <td>1</td>\n",
       "      <td>Ladieswear</td>\n",
       "      <td>16</td>\n",
       "      <td>Womens Everyday Basics</td>\n",
       "      <td>1002</td>\n",
       "      <td>Jersey Basic</td>\n",
       "      <td>Jersey top with narrow shoulder straps.</td>\n",
       "    </tr>\n",
       "    <tr>\n",
       "      <th>3</th>\n",
       "      <td>0110065001</td>\n",
       "      <td>110065</td>\n",
       "      <td>OP T-shirt (Idro)</td>\n",
       "      <td>306</td>\n",
       "      <td>Bra</td>\n",
       "      <td>Underwear</td>\n",
       "      <td>1010016</td>\n",
       "      <td>Solid</td>\n",
       "      <td>9</td>\n",
       "      <td>Black</td>\n",
       "      <td>4</td>\n",
       "      <td>Dark</td>\n",
       "      <td>5</td>\n",
       "      <td>Black</td>\n",
       "      <td>1339</td>\n",
       "      <td>Clean Lingerie</td>\n",
       "      <td>B</td>\n",
       "      <td>Lingeries/Tights</td>\n",
       "      <td>1</td>\n",
       "      <td>Ladieswear</td>\n",
       "      <td>61</td>\n",
       "      <td>Womens Lingerie</td>\n",
       "      <td>1017</td>\n",
       "      <td>Under-, Nightwear</td>\n",
       "      <td>Microfibre T-shirt bra with underwired, moulde...</td>\n",
       "    </tr>\n",
       "    <tr>\n",
       "      <th>4</th>\n",
       "      <td>0110065002</td>\n",
       "      <td>110065</td>\n",
       "      <td>OP T-shirt (Idro)</td>\n",
       "      <td>306</td>\n",
       "      <td>Bra</td>\n",
       "      <td>Underwear</td>\n",
       "      <td>1010016</td>\n",
       "      <td>Solid</td>\n",
       "      <td>10</td>\n",
       "      <td>White</td>\n",
       "      <td>3</td>\n",
       "      <td>Light</td>\n",
       "      <td>9</td>\n",
       "      <td>White</td>\n",
       "      <td>1339</td>\n",
       "      <td>Clean Lingerie</td>\n",
       "      <td>B</td>\n",
       "      <td>Lingeries/Tights</td>\n",
       "      <td>1</td>\n",
       "      <td>Ladieswear</td>\n",
       "      <td>61</td>\n",
       "      <td>Womens Lingerie</td>\n",
       "      <td>1017</td>\n",
       "      <td>Under-, Nightwear</td>\n",
       "      <td>Microfibre T-shirt bra with underwired, moulde...</td>\n",
       "    </tr>\n",
       "  </tbody>\n",
       "</table>\n",
       "</div>"
      ],
      "text/plain": [
       "   article_id  product_code          prod_name  product_type_no product_type_name  product_group_name  graphical_appearance_no graphical_appearance_name  colour_group_code colour_group_name  perceived_colour_value_id perceived_colour_value_name  perceived_colour_master_id perceived_colour_master_name  department_no department_name index_code        index_name  index_group_no index_group_name  section_no            section_name  garment_group_no garment_group_name                                        detail_desc\n",
       "0  0108775015        108775          Strap top              253          Vest top  Garment Upper body                  1010016                     Solid                  9             Black                          4                        Dark                           5                        Black           1676    Jersey Basic          A        Ladieswear               1       Ladieswear          16  Womens Everyday Basics              1002       Jersey Basic            Jersey top with narrow shoulder straps.\n",
       "1  0108775044        108775          Strap top              253          Vest top  Garment Upper body                  1010016                     Solid                 10             White                          3                       Light                           9                        White           1676    Jersey Basic          A        Ladieswear               1       Ladieswear          16  Womens Everyday Basics              1002       Jersey Basic            Jersey top with narrow shoulder straps.\n",
       "2  0108775051        108775      Strap top (1)              253          Vest top  Garment Upper body                  1010017                    Stripe                 11         Off White                          1                 Dusty Light                           9                        White           1676    Jersey Basic          A        Ladieswear               1       Ladieswear          16  Womens Everyday Basics              1002       Jersey Basic            Jersey top with narrow shoulder straps.\n",
       "3  0110065001        110065  OP T-shirt (Idro)              306               Bra           Underwear                  1010016                     Solid                  9             Black                          4                        Dark                           5                        Black           1339  Clean Lingerie          B  Lingeries/Tights               1       Ladieswear          61         Womens Lingerie              1017  Under-, Nightwear  Microfibre T-shirt bra with underwired, moulde...\n",
       "4  0110065002        110065  OP T-shirt (Idro)              306               Bra           Underwear                  1010016                     Solid                 10             White                          3                       Light                           9                        White           1339  Clean Lingerie          B  Lingeries/Tights               1       Ladieswear          61         Womens Lingerie              1017  Under-, Nightwear  Microfibre T-shirt bra with underwired, moulde..."
      ]
     },
     "execution_count": 21,
     "metadata": {},
     "output_type": "execute_result"
    }
   ],
   "source": [
    "print(article_data.shape)\n",
    "article_data.head()"
   ]
  },
  {
   "cell_type": "code",
   "execution_count": 22,
   "id": "44b854f8",
   "metadata": {
    "collapsed": false,
    "execution": {
     "iopub.execute_input": "2024-02-14T15:50:08.696798Z",
     "iopub.status.busy": "2024-02-14T15:50:08.696416Z",
     "iopub.status.idle": "2024-02-14T15:50:08.712093Z",
     "shell.execute_reply": "2024-02-14T15:50:08.711283Z",
     "shell.execute_reply.started": "2024-02-14T15:50:08.696771Z"
    },
    "is_executing": true,
    "tags": []
   },
   "outputs": [
    {
     "name": "stdout",
     "output_type": "stream",
     "text": [
      "(105542, 13)\n"
     ]
    },
    {
     "data": {
      "text/html": [
       "<div>\n",
       "<style scoped>\n",
       "    .dataframe tbody tr th:only-of-type {\n",
       "        vertical-align: middle;\n",
       "    }\n",
       "\n",
       "    .dataframe tbody tr th {\n",
       "        vertical-align: top;\n",
       "    }\n",
       "\n",
       "    .dataframe thead th {\n",
       "        text-align: right;\n",
       "    }\n",
       "</style>\n",
       "<table border=\"1\" class=\"dataframe\">\n",
       "  <thead>\n",
       "    <tr style=\"text-align: right;\">\n",
       "      <th></th>\n",
       "      <th>article_id</th>\n",
       "      <th>product_code</th>\n",
       "      <th>product_type_no</th>\n",
       "      <th>product_group_name</th>\n",
       "      <th>graphical_appearance_no</th>\n",
       "      <th>colour_group_code</th>\n",
       "      <th>perceived_colour_value_id</th>\n",
       "      <th>perceived_colour_master_id</th>\n",
       "      <th>department_no</th>\n",
       "      <th>index_code</th>\n",
       "      <th>index_group_no</th>\n",
       "      <th>section_no</th>\n",
       "      <th>garment_group_no</th>\n",
       "    </tr>\n",
       "  </thead>\n",
       "  <tbody>\n",
       "    <tr>\n",
       "      <th>0</th>\n",
       "      <td>0108775015</td>\n",
       "      <td>108775</td>\n",
       "      <td>253</td>\n",
       "      <td>Garment Upper body</td>\n",
       "      <td>1010016</td>\n",
       "      <td>9</td>\n",
       "      <td>4</td>\n",
       "      <td>5</td>\n",
       "      <td>1676</td>\n",
       "      <td>A</td>\n",
       "      <td>1</td>\n",
       "      <td>16</td>\n",
       "      <td>1002</td>\n",
       "    </tr>\n",
       "    <tr>\n",
       "      <th>1</th>\n",
       "      <td>0108775044</td>\n",
       "      <td>108775</td>\n",
       "      <td>253</td>\n",
       "      <td>Garment Upper body</td>\n",
       "      <td>1010016</td>\n",
       "      <td>10</td>\n",
       "      <td>3</td>\n",
       "      <td>9</td>\n",
       "      <td>1676</td>\n",
       "      <td>A</td>\n",
       "      <td>1</td>\n",
       "      <td>16</td>\n",
       "      <td>1002</td>\n",
       "    </tr>\n",
       "    <tr>\n",
       "      <th>2</th>\n",
       "      <td>0108775051</td>\n",
       "      <td>108775</td>\n",
       "      <td>253</td>\n",
       "      <td>Garment Upper body</td>\n",
       "      <td>1010017</td>\n",
       "      <td>11</td>\n",
       "      <td>1</td>\n",
       "      <td>9</td>\n",
       "      <td>1676</td>\n",
       "      <td>A</td>\n",
       "      <td>1</td>\n",
       "      <td>16</td>\n",
       "      <td>1002</td>\n",
       "    </tr>\n",
       "    <tr>\n",
       "      <th>3</th>\n",
       "      <td>0110065001</td>\n",
       "      <td>110065</td>\n",
       "      <td>306</td>\n",
       "      <td>Underwear</td>\n",
       "      <td>1010016</td>\n",
       "      <td>9</td>\n",
       "      <td>4</td>\n",
       "      <td>5</td>\n",
       "      <td>1339</td>\n",
       "      <td>B</td>\n",
       "      <td>1</td>\n",
       "      <td>61</td>\n",
       "      <td>1017</td>\n",
       "    </tr>\n",
       "    <tr>\n",
       "      <th>4</th>\n",
       "      <td>0110065002</td>\n",
       "      <td>110065</td>\n",
       "      <td>306</td>\n",
       "      <td>Underwear</td>\n",
       "      <td>1010016</td>\n",
       "      <td>10</td>\n",
       "      <td>3</td>\n",
       "      <td>9</td>\n",
       "      <td>1339</td>\n",
       "      <td>B</td>\n",
       "      <td>1</td>\n",
       "      <td>61</td>\n",
       "      <td>1017</td>\n",
       "    </tr>\n",
       "  </tbody>\n",
       "</table>\n",
       "</div>"
      ],
      "text/plain": [
       "   article_id  product_code  product_type_no  product_group_name  graphical_appearance_no  colour_group_code  perceived_colour_value_id  perceived_colour_master_id  department_no index_code  index_group_no  section_no  garment_group_no\n",
       "0  0108775015        108775              253  Garment Upper body                  1010016                  9                          4                           5           1676          A               1          16              1002\n",
       "1  0108775044        108775              253  Garment Upper body                  1010016                 10                          3                           9           1676          A               1          16              1002\n",
       "2  0108775051        108775              253  Garment Upper body                  1010017                 11                          1                           9           1676          A               1          16              1002\n",
       "3  0110065001        110065              306           Underwear                  1010016                  9                          4                           5           1339          B               1          61              1017\n",
       "4  0110065002        110065              306           Underwear                  1010016                 10                          3                           9           1339          B               1          61              1017"
      ]
     },
     "execution_count": 22,
     "metadata": {},
     "output_type": "execute_result"
    }
   ],
   "source": [
    "item_features_list = [\"product_code\", \"product_type_no\", \"product_group_name\", \"graphical_appearance_no\",\n",
    "                      \"colour_group_code\", \"perceived_colour_value_id\", \"perceived_colour_master_id\", \"department_no\",\n",
    "                      \"index_code\", \"index_group_no\", \"section_no\", \"garment_group_no\"]\n",
    "article_data_min = article_data[[\"article_id\"] + item_features_list]\n",
    "print(article_data_min.shape)\n",
    "article_data_min.head()"
   ]
  },
  {
   "cell_type": "code",
   "execution_count": 23,
   "id": "03543f78",
   "metadata": {
    "collapsed": false,
    "execution": {
     "iopub.execute_input": "2024-02-14T15:50:13.530833Z",
     "iopub.status.busy": "2024-02-14T15:50:13.530423Z",
     "iopub.status.idle": "2024-02-14T15:50:13.536482Z",
     "shell.execute_reply": "2024-02-14T15:50:13.535698Z",
     "shell.execute_reply.started": "2024-02-14T15:50:13.530803Z"
    },
    "is_executing": true,
    "tags": []
   },
   "outputs": [
    {
     "data": {
      "text/plain": [
       "article_id                    object\n",
       "product_code                   int64\n",
       "product_type_no                int64\n",
       "product_group_name            object\n",
       "graphical_appearance_no        int64\n",
       "colour_group_code              int64\n",
       "perceived_colour_value_id      int64\n",
       "perceived_colour_master_id     int64\n",
       "department_no                  int64\n",
       "index_code                    object\n",
       "index_group_no                 int64\n",
       "section_no                     int64\n",
       "garment_group_no               int64\n",
       "dtype: object"
      ]
     },
     "execution_count": 23,
     "metadata": {},
     "output_type": "execute_result"
    }
   ],
   "source": [
    "article_data_min.dtypes"
   ]
  },
  {
   "cell_type": "markdown",
   "source": [
    "Nous encodons les caractéristiques des articles qui sont catégorielles en labels plus légers pour optimiser les performances des traitements. "
   ],
   "metadata": {
    "collapsed": false
   },
   "id": "103b86afd86f69ec"
  },
  {
   "cell_type": "code",
   "execution_count": 24,
   "id": "f7340929",
   "metadata": {
    "collapsed": false,
    "execution": {
     "iopub.execute_input": "2024-02-14T15:50:21.598739Z",
     "iopub.status.busy": "2024-02-14T15:50:21.597975Z",
     "iopub.status.idle": "2024-02-14T15:50:22.245123Z",
     "shell.execute_reply": "2024-02-14T15:50:22.244314Z",
     "shell.execute_reply.started": "2024-02-14T15:50:21.598690Z"
    },
    "is_executing": true,
    "tags": []
   },
   "outputs": [
    {
     "name": "stdout",
     "output_type": "stream",
     "text": [
      "(105542, 13)\n"
     ]
    },
    {
     "data": {
      "text/html": [
       "<div>\n",
       "<style scoped>\n",
       "    .dataframe tbody tr th:only-of-type {\n",
       "        vertical-align: middle;\n",
       "    }\n",
       "\n",
       "    .dataframe tbody tr th {\n",
       "        vertical-align: top;\n",
       "    }\n",
       "\n",
       "    .dataframe thead th {\n",
       "        text-align: right;\n",
       "    }\n",
       "</style>\n",
       "<table border=\"1\" class=\"dataframe\">\n",
       "  <thead>\n",
       "    <tr style=\"text-align: right;\">\n",
       "      <th></th>\n",
       "      <th>article_id</th>\n",
       "      <th>product_code</th>\n",
       "      <th>product_type_no</th>\n",
       "      <th>product_group_name</th>\n",
       "      <th>graphical_appearance_no</th>\n",
       "      <th>colour_group_code</th>\n",
       "      <th>perceived_colour_value_id</th>\n",
       "      <th>perceived_colour_master_id</th>\n",
       "      <th>department_no</th>\n",
       "      <th>index_code</th>\n",
       "      <th>index_group_no</th>\n",
       "      <th>section_no</th>\n",
       "      <th>garment_group_no</th>\n",
       "    </tr>\n",
       "  </thead>\n",
       "  <tbody>\n",
       "    <tr>\n",
       "      <th>0</th>\n",
       "      <td>0108775015</td>\n",
       "      <td>0</td>\n",
       "      <td>48</td>\n",
       "      <td>7</td>\n",
       "      <td>16</td>\n",
       "      <td>9</td>\n",
       "      <td>4</td>\n",
       "      <td>5</td>\n",
       "      <td>47</td>\n",
       "      <td>0</td>\n",
       "      <td>0</td>\n",
       "      <td>8</td>\n",
       "      <td>1</td>\n",
       "    </tr>\n",
       "    <tr>\n",
       "      <th>1</th>\n",
       "      <td>0108775044</td>\n",
       "      <td>0</td>\n",
       "      <td>48</td>\n",
       "      <td>7</td>\n",
       "      <td>16</td>\n",
       "      <td>10</td>\n",
       "      <td>3</td>\n",
       "      <td>9</td>\n",
       "      <td>47</td>\n",
       "      <td>0</td>\n",
       "      <td>0</td>\n",
       "      <td>8</td>\n",
       "      <td>1</td>\n",
       "    </tr>\n",
       "    <tr>\n",
       "      <th>2</th>\n",
       "      <td>0108775051</td>\n",
       "      <td>0</td>\n",
       "      <td>48</td>\n",
       "      <td>7</td>\n",
       "      <td>17</td>\n",
       "      <td>11</td>\n",
       "      <td>1</td>\n",
       "      <td>9</td>\n",
       "      <td>47</td>\n",
       "      <td>0</td>\n",
       "      <td>0</td>\n",
       "      <td>8</td>\n",
       "      <td>1</td>\n",
       "    </tr>\n",
       "    <tr>\n",
       "      <th>3</th>\n",
       "      <td>0110065001</td>\n",
       "      <td>1</td>\n",
       "      <td>90</td>\n",
       "      <td>16</td>\n",
       "      <td>16</td>\n",
       "      <td>9</td>\n",
       "      <td>4</td>\n",
       "      <td>5</td>\n",
       "      <td>12</td>\n",
       "      <td>1</td>\n",
       "      <td>0</td>\n",
       "      <td>43</td>\n",
       "      <td>14</td>\n",
       "    </tr>\n",
       "    <tr>\n",
       "      <th>4</th>\n",
       "      <td>0110065002</td>\n",
       "      <td>1</td>\n",
       "      <td>90</td>\n",
       "      <td>16</td>\n",
       "      <td>16</td>\n",
       "      <td>10</td>\n",
       "      <td>3</td>\n",
       "      <td>9</td>\n",
       "      <td>12</td>\n",
       "      <td>1</td>\n",
       "      <td>0</td>\n",
       "      <td>43</td>\n",
       "      <td>14</td>\n",
       "    </tr>\n",
       "  </tbody>\n",
       "</table>\n",
       "</div>"
      ],
      "text/plain": [
       "   article_id product_code product_type_no product_group_name graphical_appearance_no colour_group_code perceived_colour_value_id perceived_colour_master_id department_no index_code index_group_no section_no garment_group_no\n",
       "0  0108775015            0              48                  7                      16                 9                         4                          5            47          0              0          8                1\n",
       "1  0108775044            0              48                  7                      16                10                         3                          9            47          0              0          8                1\n",
       "2  0108775051            0              48                  7                      17                11                         1                          9            47          0              0          8                1\n",
       "3  0110065001            1              90                 16                      16                 9                         4                          5            12          1              0         43               14\n",
       "4  0110065002            1              90                 16                      16                10                         3                          9            12          1              0         43               14"
      ]
     },
     "execution_count": 24,
     "metadata": {},
     "output_type": "execute_result"
    }
   ],
   "source": [
    "le_article_data = LabelEncoder()\n",
    "\n",
    "article_data_min[item_features_list] = article_data_min[item_features_list].apply(\n",
    "    lambda x: le_article_data.fit_transform(x))\n",
    "article_data_min[item_features_list] = article_data_min[item_features_list].astype(str)\n",
    "print(article_data_min.shape)\n",
    "article_data_min.head()"
   ]
  },
  {
   "cell_type": "code",
   "execution_count": 25,
   "id": "bc109f40",
   "metadata": {
    "collapsed": false,
    "execution": {
     "iopub.execute_input": "2024-02-14T15:50:27.872933Z",
     "iopub.status.busy": "2024-02-14T15:50:27.872531Z",
     "iopub.status.idle": "2024-02-14T15:50:27.878513Z",
     "shell.execute_reply": "2024-02-14T15:50:27.877770Z",
     "shell.execute_reply.started": "2024-02-14T15:50:27.872903Z"
    },
    "is_executing": true,
    "tags": []
   },
   "outputs": [
    {
     "data": {
      "text/plain": [
       "article_id                    object\n",
       "product_code                  object\n",
       "product_type_no               object\n",
       "product_group_name            object\n",
       "graphical_appearance_no       object\n",
       "colour_group_code             object\n",
       "perceived_colour_value_id     object\n",
       "perceived_colour_master_id    object\n",
       "department_no                 object\n",
       "index_code                    object\n",
       "index_group_no                object\n",
       "section_no                    object\n",
       "garment_group_no              object\n",
       "dtype: object"
      ]
     },
     "execution_count": 25,
     "metadata": {},
     "output_type": "execute_result"
    }
   ],
   "source": [
    "article_data_min.dtypes"
   ]
  },
  {
   "cell_type": "markdown",
   "id": "0ede9b42",
   "metadata": {},
   "source": [
    "### 4.2. Matrices d'interaction élément-caractéristiques et utilisateur-caractéristiques"
   ]
  },
  {
   "cell_type": "code",
   "execution_count": 26,
   "id": "ca440ab5",
   "metadata": {
    "collapsed": false,
    "execution": {
     "iopub.execute_input": "2024-02-14T15:50:34.262240Z",
     "iopub.status.busy": "2024-02-14T15:50:34.261835Z",
     "iopub.status.idle": "2024-02-14T15:50:34.273150Z",
     "shell.execute_reply": "2024-02-14T15:50:34.272423Z",
     "shell.execute_reply.started": "2024-02-14T15:50:34.262211Z"
    },
    "is_executing": true,
    "tags": []
   },
   "outputs": [
    {
     "data": {
      "text/html": [
       "<div>\n",
       "<style scoped>\n",
       "    .dataframe tbody tr th:only-of-type {\n",
       "        vertical-align: middle;\n",
       "    }\n",
       "\n",
       "    .dataframe tbody tr th {\n",
       "        vertical-align: top;\n",
       "    }\n",
       "\n",
       "    .dataframe thead th {\n",
       "        text-align: right;\n",
       "    }\n",
       "</style>\n",
       "<table border=\"1\" class=\"dataframe\">\n",
       "  <thead>\n",
       "    <tr style=\"text-align: right;\">\n",
       "      <th></th>\n",
       "      <th>article_id</th>\n",
       "      <th>product_code</th>\n",
       "      <th>product_type_no</th>\n",
       "      <th>product_group_name</th>\n",
       "      <th>graphical_appearance_no</th>\n",
       "      <th>colour_group_code</th>\n",
       "      <th>perceived_colour_value_id</th>\n",
       "      <th>perceived_colour_master_id</th>\n",
       "      <th>department_no</th>\n",
       "      <th>index_code</th>\n",
       "      <th>index_group_no</th>\n",
       "      <th>section_no</th>\n",
       "      <th>garment_group_no</th>\n",
       "    </tr>\n",
       "  </thead>\n",
       "  <tbody>\n",
       "    <tr>\n",
       "      <th>0</th>\n",
       "      <td>0108775015</td>\n",
       "      <td>0</td>\n",
       "      <td>48</td>\n",
       "      <td>7</td>\n",
       "      <td>16</td>\n",
       "      <td>9</td>\n",
       "      <td>4</td>\n",
       "      <td>5</td>\n",
       "      <td>47</td>\n",
       "      <td>0</td>\n",
       "      <td>0</td>\n",
       "      <td>8</td>\n",
       "      <td>1</td>\n",
       "    </tr>\n",
       "    <tr>\n",
       "      <th>1</th>\n",
       "      <td>0108775044</td>\n",
       "      <td>0</td>\n",
       "      <td>48</td>\n",
       "      <td>7</td>\n",
       "      <td>16</td>\n",
       "      <td>10</td>\n",
       "      <td>3</td>\n",
       "      <td>9</td>\n",
       "      <td>47</td>\n",
       "      <td>0</td>\n",
       "      <td>0</td>\n",
       "      <td>8</td>\n",
       "      <td>1</td>\n",
       "    </tr>\n",
       "    <tr>\n",
       "      <th>2</th>\n",
       "      <td>0108775051</td>\n",
       "      <td>0</td>\n",
       "      <td>48</td>\n",
       "      <td>7</td>\n",
       "      <td>17</td>\n",
       "      <td>11</td>\n",
       "      <td>1</td>\n",
       "      <td>9</td>\n",
       "      <td>47</td>\n",
       "      <td>0</td>\n",
       "      <td>0</td>\n",
       "      <td>8</td>\n",
       "      <td>1</td>\n",
       "    </tr>\n",
       "    <tr>\n",
       "      <th>3</th>\n",
       "      <td>0110065001</td>\n",
       "      <td>1</td>\n",
       "      <td>90</td>\n",
       "      <td>16</td>\n",
       "      <td>16</td>\n",
       "      <td>9</td>\n",
       "      <td>4</td>\n",
       "      <td>5</td>\n",
       "      <td>12</td>\n",
       "      <td>1</td>\n",
       "      <td>0</td>\n",
       "      <td>43</td>\n",
       "      <td>14</td>\n",
       "    </tr>\n",
       "    <tr>\n",
       "      <th>4</th>\n",
       "      <td>0110065002</td>\n",
       "      <td>1</td>\n",
       "      <td>90</td>\n",
       "      <td>16</td>\n",
       "      <td>16</td>\n",
       "      <td>10</td>\n",
       "      <td>3</td>\n",
       "      <td>9</td>\n",
       "      <td>12</td>\n",
       "      <td>1</td>\n",
       "      <td>0</td>\n",
       "      <td>43</td>\n",
       "      <td>14</td>\n",
       "    </tr>\n",
       "  </tbody>\n",
       "</table>\n",
       "</div>"
      ],
      "text/plain": [
       "   article_id product_code product_type_no product_group_name graphical_appearance_no colour_group_code perceived_colour_value_id perceived_colour_master_id department_no index_code index_group_no section_no garment_group_no\n",
       "0  0108775015            0              48                  7                      16                 9                         4                          5            47          0              0          8                1\n",
       "1  0108775044            0              48                  7                      16                10                         3                          9            47          0              0          8                1\n",
       "2  0108775051            0              48                  7                      17                11                         1                          9            47          0              0          8                1\n",
       "3  0110065001            1              90                 16                      16                 9                         4                          5            12          1              0         43               14\n",
       "4  0110065002            1              90                 16                      16                10                         3                          9            12          1              0         43               14"
      ]
     },
     "execution_count": 26,
     "metadata": {},
     "output_type": "execute_result"
    }
   ],
   "source": [
    "article_data_min.head()"
   ]
  },
  {
   "cell_type": "code",
   "execution_count": 27,
   "id": "89dab675",
   "metadata": {
    "collapsed": false,
    "execution": {
     "iopub.execute_input": "2024-02-14T15:50:39.071862Z",
     "iopub.status.busy": "2024-02-14T15:50:39.071476Z",
     "iopub.status.idle": "2024-02-14T15:50:39.079180Z",
     "shell.execute_reply": "2024-02-14T15:50:39.078425Z",
     "shell.execute_reply.started": "2024-02-14T15:50:39.071834Z"
    },
    "is_executing": true,
    "tags": []
   },
   "outputs": [
    {
     "data": {
      "text/html": [
       "<div>\n",
       "<style scoped>\n",
       "    .dataframe tbody tr th:only-of-type {\n",
       "        vertical-align: middle;\n",
       "    }\n",
       "\n",
       "    .dataframe tbody tr th {\n",
       "        vertical-align: top;\n",
       "    }\n",
       "\n",
       "    .dataframe thead th {\n",
       "        text-align: right;\n",
       "    }\n",
       "</style>\n",
       "<table border=\"1\" class=\"dataframe\">\n",
       "  <thead>\n",
       "    <tr style=\"text-align: right;\">\n",
       "      <th></th>\n",
       "      <th>customer_id</th>\n",
       "      <th>age</th>\n",
       "      <th>postal_code</th>\n",
       "    </tr>\n",
       "  </thead>\n",
       "  <tbody>\n",
       "    <tr>\n",
       "      <th>0</th>\n",
       "      <td>00000dbacae5abe5e23885899a1fa44253a17956c6d1c3...</td>\n",
       "      <td>49.0</td>\n",
       "      <td>112978</td>\n",
       "    </tr>\n",
       "    <tr>\n",
       "      <th>1</th>\n",
       "      <td>0000423b00ade91418cceaf3b26c6af3dd342b51fd051e...</td>\n",
       "      <td>25.0</td>\n",
       "      <td>57312</td>\n",
       "    </tr>\n",
       "    <tr>\n",
       "      <th>2</th>\n",
       "      <td>000058a12d5b43e67d225668fa1f8d618c13dc232df0ca...</td>\n",
       "      <td>24.0</td>\n",
       "      <td>139156</td>\n",
       "    </tr>\n",
       "    <tr>\n",
       "      <th>3</th>\n",
       "      <td>00005ca1c9ed5f5146b52ac8639a40ca9d57aeff4d1bd2...</td>\n",
       "      <td>54.0</td>\n",
       "      <td>128529</td>\n",
       "    </tr>\n",
       "    <tr>\n",
       "      <th>4</th>\n",
       "      <td>00006413d8573cd20ed7128e53b7b13819fe5cfc2d801f...</td>\n",
       "      <td>52.0</td>\n",
       "      <td>52371</td>\n",
       "    </tr>\n",
       "  </tbody>\n",
       "</table>\n",
       "</div>"
      ],
      "text/plain": [
       "                                         customer_id   age postal_code\n",
       "0  00000dbacae5abe5e23885899a1fa44253a17956c6d1c3...  49.0      112978\n",
       "1  0000423b00ade91418cceaf3b26c6af3dd342b51fd051e...  25.0       57312\n",
       "2  000058a12d5b43e67d225668fa1f8d618c13dc232df0ca...  24.0      139156\n",
       "3  00005ca1c9ed5f5146b52ac8639a40ca9d57aeff4d1bd2...  54.0      128529\n",
       "4  00006413d8573cd20ed7128e53b7b13819fe5cfc2d801f...  52.0       52371"
      ]
     },
     "execution_count": 27,
     "metadata": {},
     "output_type": "execute_result"
    }
   ],
   "source": [
    "customer_data_min.head()"
   ]
  },
  {
   "cell_type": "markdown",
   "source": [
    "Les caractéristiques des utilisateurs et des articles étant des variables catégorielles, nous considérons chaque modalité de ces variables comme caractéristique unique dans les matrices d'articles et d'utilisateurs."
   ],
   "metadata": {
    "collapsed": false
   },
   "id": "9725c3082938265f"
  },
  {
   "cell_type": "code",
   "execution_count": 28,
   "id": "4f4d4bc5",
   "metadata": {
    "collapsed": false,
    "execution": {
     "iopub.execute_input": "2024-02-14T15:50:44.723256Z",
     "iopub.status.busy": "2024-02-14T15:50:44.722763Z",
     "iopub.status.idle": "2024-02-14T15:50:44.727489Z",
     "shell.execute_reply": "2024-02-14T15:50:44.726740Z",
     "shell.execute_reply.started": "2024-02-14T15:50:44.723224Z"
    },
    "is_executing": true,
    "tags": []
   },
   "outputs": [],
   "source": [
    "def get_uniques_by_columns(dataframe, columns):\n",
    "    dataframe = dataframe.applymap(str)\n",
    "    uniques = list()\n",
    "    for col in columns:\n",
    "        uniques.extend(dataframe[col].unique())\n",
    "    return uniques"
   ]
  },
  {
   "cell_type": "code",
   "execution_count": 29,
   "id": "c669fefa",
   "metadata": {
    "collapsed": false,
    "execution": {
     "iopub.execute_input": "2024-02-14T15:50:49.995766Z",
     "iopub.status.busy": "2024-02-14T15:50:49.995367Z",
     "iopub.status.idle": "2024-02-14T15:50:51.324234Z",
     "shell.execute_reply": "2024-02-14T15:50:51.323611Z",
     "shell.execute_reply.started": "2024-02-14T15:50:49.995739Z"
    },
    "is_executing": true,
    "tags": []
   },
   "outputs": [],
   "source": [
    "dataset.fit_partial(\n",
    "    item_features=get_uniques_by_columns(article_data_min, item_features_list),\n",
    "    user_features=get_uniques_by_columns(customer_data_min, user_features_list),\n",
    ")"
   ]
  },
  {
   "cell_type": "code",
   "execution_count": 30,
   "id": "f022a609",
   "metadata": {
    "collapsed": false,
    "execution": {
     "iopub.execute_input": "2024-02-14T15:51:05.833437Z",
     "iopub.status.busy": "2024-02-14T15:51:05.832765Z",
     "iopub.status.idle": "2024-02-14T15:51:05.836861Z",
     "shell.execute_reply": "2024-02-14T15:51:05.836225Z",
     "shell.execute_reply.started": "2024-02-14T15:51:05.833407Z"
    },
    "is_executing": true,
    "tags": []
   },
   "outputs": [
    {
     "name": "stdout",
     "output_type": "stream",
     "text": [
      "Num_item_ids: 105542, Num_item_features 152766.\n"
     ]
    }
   ],
   "source": [
    "print('Num_item_ids: {}, Num_item_features {}.'.format(dataset.item_features_shape()[0],\n",
    "                                                       dataset.item_features_shape()[1]))"
   ]
  },
  {
   "cell_type": "code",
   "execution_count": 31,
   "id": "ca4e8f30",
   "metadata": {
    "collapsed": false,
    "execution": {
     "iopub.execute_input": "2024-02-14T15:51:12.198705Z",
     "iopub.status.busy": "2024-02-14T15:51:12.198323Z",
     "iopub.status.idle": "2024-02-14T15:51:12.202460Z",
     "shell.execute_reply": "2024-02-14T15:51:12.201901Z",
     "shell.execute_reply.started": "2024-02-14T15:51:12.198677Z"
    },
    "is_executing": true,
    "tags": []
   },
   "outputs": [
    {
     "name": "stdout",
     "output_type": "stream",
     "text": [
      "Num_user_ids: 1371980, Num_user_features 1724964.\n"
     ]
    }
   ],
   "source": [
    "print('Num_user_ids: {}, Num_user_features {}.'.format(dataset.user_features_shape()[0],\n",
    "                                                       dataset.user_features_shape()[1]))"
   ]
  },
  {
   "cell_type": "markdown",
   "id": "c6078bb4",
   "metadata": {},
   "source": [
    "Regroupons les données sur les transactions avec les métadonnées d'articles et d'utilisateur afin de construire leur matrices."
   ]
  },
  {
   "cell_type": "code",
   "execution_count": 32,
   "id": "92b0fa15",
   "metadata": {
    "collapsed": false,
    "execution": {
     "iopub.execute_input": "2024-02-14T15:51:23.725621Z",
     "iopub.status.busy": "2024-02-14T15:51:23.724970Z",
     "iopub.status.idle": "2024-02-14T15:51:25.849275Z",
     "shell.execute_reply": "2024-02-14T15:51:25.848325Z",
     "shell.execute_reply.started": "2024-02-14T15:51:23.725594Z"
    },
    "is_executing": true,
    "tags": []
   },
   "outputs": [
    {
     "name": "stdout",
     "output_type": "stream",
     "text": [
      "(1190911, 16)\n"
     ]
    },
    {
     "data": {
      "text/html": [
       "<div>\n",
       "<style scoped>\n",
       "    .dataframe tbody tr th:only-of-type {\n",
       "        vertical-align: middle;\n",
       "    }\n",
       "\n",
       "    .dataframe tbody tr th {\n",
       "        vertical-align: top;\n",
       "    }\n",
       "\n",
       "    .dataframe thead th {\n",
       "        text-align: right;\n",
       "    }\n",
       "</style>\n",
       "<table border=\"1\" class=\"dataframe\">\n",
       "  <thead>\n",
       "    <tr style=\"text-align: right;\">\n",
       "      <th></th>\n",
       "      <th>article_id</th>\n",
       "      <th>customer_id</th>\n",
       "      <th>age</th>\n",
       "      <th>postal_code</th>\n",
       "      <th>product_code</th>\n",
       "      <th>product_type_no</th>\n",
       "      <th>product_group_name</th>\n",
       "      <th>graphical_appearance_no</th>\n",
       "      <th>colour_group_code</th>\n",
       "      <th>perceived_colour_value_id</th>\n",
       "      <th>perceived_colour_master_id</th>\n",
       "      <th>department_no</th>\n",
       "      <th>index_code</th>\n",
       "      <th>index_group_no</th>\n",
       "      <th>section_no</th>\n",
       "      <th>garment_group_no</th>\n",
       "    </tr>\n",
       "  </thead>\n",
       "  <tbody>\n",
       "    <tr>\n",
       "      <th>0</th>\n",
       "      <td>0913688003</td>\n",
       "      <td>0001d44dbe7f6c4b35200abdb052c77a87596fe1bdcc37...</td>\n",
       "      <td>44.0</td>\n",
       "      <td>202732</td>\n",
       "      <td>45882</td>\n",
       "      <td>53</td>\n",
       "      <td>7</td>\n",
       "      <td>1</td>\n",
       "      <td>13</td>\n",
       "      <td>2</td>\n",
       "      <td>11</td>\n",
       "      <td>23</td>\n",
       "      <td>0</td>\n",
       "      <td>0</td>\n",
       "      <td>7</td>\n",
       "      <td>8</td>\n",
       "    </tr>\n",
       "    <tr>\n",
       "      <th>1</th>\n",
       "      <td>0913688003</td>\n",
       "      <td>0001d44dbe7f6c4b35200abdb052c77a87596fe1bdcc37...</td>\n",
       "      <td>44.0</td>\n",
       "      <td>202732</td>\n",
       "      <td>45882</td>\n",
       "      <td>53</td>\n",
       "      <td>7</td>\n",
       "      <td>1</td>\n",
       "      <td>13</td>\n",
       "      <td>2</td>\n",
       "      <td>11</td>\n",
       "      <td>23</td>\n",
       "      <td>0</td>\n",
       "      <td>0</td>\n",
       "      <td>7</td>\n",
       "      <td>8</td>\n",
       "    </tr>\n",
       "    <tr>\n",
       "      <th>2</th>\n",
       "      <td>0923460001</td>\n",
       "      <td>0001d44dbe7f6c4b35200abdb052c77a87596fe1bdcc37...</td>\n",
       "      <td>44.0</td>\n",
       "      <td>202732</td>\n",
       "      <td>46442</td>\n",
       "      <td>68</td>\n",
       "      <td>6</td>\n",
       "      <td>1</td>\n",
       "      <td>25</td>\n",
       "      <td>2</td>\n",
       "      <td>13</td>\n",
       "      <td>18</td>\n",
       "      <td>0</td>\n",
       "      <td>0</td>\n",
       "      <td>7</td>\n",
       "      <td>10</td>\n",
       "    </tr>\n",
       "    <tr>\n",
       "      <th>3</th>\n",
       "      <td>0934380001</td>\n",
       "      <td>0001d44dbe7f6c4b35200abdb052c77a87596fe1bdcc37...</td>\n",
       "      <td>44.0</td>\n",
       "      <td>202732</td>\n",
       "      <td>46969</td>\n",
       "      <td>92</td>\n",
       "      <td>7</td>\n",
       "      <td>14</td>\n",
       "      <td>33</td>\n",
       "      <td>4</td>\n",
       "      <td>4</td>\n",
       "      <td>33</td>\n",
       "      <td>3</td>\n",
       "      <td>1</td>\n",
       "      <td>37</td>\n",
       "      <td>3</td>\n",
       "    </tr>\n",
       "    <tr>\n",
       "      <th>4</th>\n",
       "      <td>0913688001</td>\n",
       "      <td>0001d44dbe7f6c4b35200abdb052c77a87596fe1bdcc37...</td>\n",
       "      <td>44.0</td>\n",
       "      <td>202732</td>\n",
       "      <td>45882</td>\n",
       "      <td>53</td>\n",
       "      <td>7</td>\n",
       "      <td>16</td>\n",
       "      <td>10</td>\n",
       "      <td>3</td>\n",
       "      <td>9</td>\n",
       "      <td>23</td>\n",
       "      <td>0</td>\n",
       "      <td>0</td>\n",
       "      <td>7</td>\n",
       "      <td>8</td>\n",
       "    </tr>\n",
       "  </tbody>\n",
       "</table>\n",
       "</div>"
      ],
      "text/plain": [
       "   article_id                                        customer_id   age postal_code product_code product_type_no product_group_name graphical_appearance_no colour_group_code perceived_colour_value_id perceived_colour_master_id department_no index_code index_group_no section_no garment_group_no\n",
       "0  0913688003  0001d44dbe7f6c4b35200abdb052c77a87596fe1bdcc37...  44.0      202732        45882              53                  7                       1                13                         2                         11            23          0              0          7                8\n",
       "1  0913688003  0001d44dbe7f6c4b35200abdb052c77a87596fe1bdcc37...  44.0      202732        45882              53                  7                       1                13                         2                         11            23          0              0          7                8\n",
       "2  0923460001  0001d44dbe7f6c4b35200abdb052c77a87596fe1bdcc37...  44.0      202732        46442              68                  6                       1                25                         2                         13            18          0              0          7               10\n",
       "3  0934380001  0001d44dbe7f6c4b35200abdb052c77a87596fe1bdcc37...  44.0      202732        46969              92                  7                      14                33                         4                          4            33          3              1         37                3\n",
       "4  0913688001  0001d44dbe7f6c4b35200abdb052c77a87596fe1bdcc37...  44.0      202732        45882              53                  7                      16                10                         3                          9            23          0              0          7                8"
      ]
     },
     "execution_count": 32,
     "metadata": {},
     "output_type": "execute_result"
    }
   ],
   "source": [
    "transactions_full_min = transactions_data[transactions_data['t_dat'] > '2020-08-21']\n",
    "transactions_full_min = transactions_full_min[['article_id', 'customer_id']].merge(\n",
    "    customer_data_min, on='customer_id', how='left').merge(\n",
    "    article_data_min, on='article_id', how='left')\n",
    "\n",
    "print(transactions_full_min.shape)\n",
    "transactions_full_min.head()"
   ]
  },
  {
   "cell_type": "code",
   "execution_count": 33,
   "id": "42ad3e0b",
   "metadata": {
    "collapsed": false,
    "execution": {
     "iopub.execute_input": "2024-02-14T15:51:37.668041Z",
     "iopub.status.busy": "2024-02-14T15:51:37.667658Z",
     "iopub.status.idle": "2024-02-14T15:51:37.671817Z",
     "shell.execute_reply": "2024-02-14T15:51:37.671260Z",
     "shell.execute_reply.started": "2024-02-14T15:51:37.668014Z"
    },
    "is_executing": true,
    "tags": []
   },
   "outputs": [],
   "source": [
    "def prepare_features_format(data, id, feature_columns):\n",
    "    for row in data.iterrows():\n",
    "        yield (row[1][id], [str(row[1][feature]) for feature in feature_columns])\n"
   ]
  },
  {
   "cell_type": "code",
   "execution_count": 34,
   "id": "0717248f",
   "metadata": {
    "collapsed": false,
    "execution": {
     "iopub.execute_input": "2024-02-14T15:51:50.577684Z",
     "iopub.status.busy": "2024-02-14T15:51:50.577279Z",
     "iopub.status.idle": "2024-02-14T15:53:28.033614Z",
     "shell.execute_reply": "2024-02-14T15:53:28.032815Z",
     "shell.execute_reply.started": "2024-02-14T15:51:50.577656Z"
    },
    "is_executing": true,
    "tags": []
   },
   "outputs": [
    {
     "name": "stdout",
     "output_type": "stream",
     "text": [
      "<105542x152766 sparse matrix of type '<class 'numpy.float32'>'\n",
      "\twith 412513 stored elements in Compressed Sparse Row format>\n"
     ]
    }
   ],
   "source": [
    "item_features = dataset.build_item_features(\n",
    "    prepare_features_format(transactions_full_min, \"article_id\", item_features_list)\n",
    ")\n",
    "print(repr(item_features))"
   ]
  },
  {
   "cell_type": "code",
   "execution_count": 35,
   "id": "f3f45a4d",
   "metadata": {
    "collapsed": false,
    "execution": {
     "iopub.execute_input": "2024-02-14T15:53:45.011817Z",
     "iopub.status.busy": "2024-02-14T15:53:45.011123Z",
     "iopub.status.idle": "2024-02-14T15:54:34.914983Z",
     "shell.execute_reply": "2024-02-14T15:54:34.914318Z",
     "shell.execute_reply.started": "2024-02-14T15:53:45.011783Z"
    },
    "is_executing": true,
    "tags": []
   },
   "outputs": [
    {
     "name": "stdout",
     "output_type": "stream",
     "text": [
      "<1371980x1724964 sparse matrix of type '<class 'numpy.float32'>'\n",
      "\twith 1884690 stored elements in Compressed Sparse Row format>\n"
     ]
    }
   ],
   "source": [
    "user_features = dataset.build_user_features(\n",
    "    prepare_features_format(transactions_full_min, \"customer_id\", user_features_list)\n",
    ")\n",
    "print(repr(user_features))"
   ]
  },
  {
   "cell_type": "markdown",
   "id": "31f0bec3",
   "metadata": {},
   "source": [
    "### 4.3. Tuning des hyper-paramètres par recherche aléatoire"
   ]
  },
  {
   "cell_type": "code",
   "execution_count": 50,
   "id": "18d41c4a",
   "metadata": {
    "collapsed": false,
    "execution": {
     "iopub.execute_input": "2024-02-13T18:51:15.573616Z",
     "iopub.status.busy": "2024-02-13T18:51:15.573266Z",
     "iopub.status.idle": "2024-02-13T18:51:15.578681Z",
     "shell.execute_reply": "2024-02-13T18:51:15.578129Z",
     "shell.execute_reply.started": "2024-02-13T18:51:15.573589Z"
    },
    "is_executing": true
   },
   "outputs": [],
   "source": [
    "def random_search_opt(train_interactions_weights, test_interactions_weights,\n",
    "                      user_features=user_features,\n",
    "                      item_features=item_features,\n",
    "                      num_samples=50, num_threads=8):\n",
    "    for hyperparams in tqdm(itertools.islice(sample_hyperparameters(), num_samples), total=num_samples):\n",
    "        num_epochs = hyperparams.pop(\"num_epochs\")\n",
    "\n",
    "        model = LightFM(**hyperparams)\n",
    "        model.fit(train_interactions_weights, sample_weight=None, epochs=num_epochs,\n",
    "                  num_threads=num_threads,\n",
    "                  item_features=item_features,\n",
    "                  user_features=user_features)\n",
    "\n",
    "        score = precision_at_k(model, test_interactions_weights, train_interactions=train_interactions_weights,\n",
    "                               item_features=item_features,\n",
    "                               user_features=user_features,\n",
    "                               k=12,\n",
    "                               num_threads=num_threads).mean()\n",
    "\n",
    "        hyperparams[\"num_epochs\"] = num_epochs\n",
    "\n",
    "        yield (score, hyperparams, model)"
   ]
  },
  {
   "cell_type": "code",
   "execution_count": 48,
   "id": "84cf0238",
   "metadata": {},
   "outputs": [
    {
     "data": {
      "text/plain": [
       "230"
      ]
     },
     "execution_count": 48,
     "metadata": {},
     "output_type": "execute_result"
    }
   ],
   "source": [
    "gc.collect()"
   ]
  },
  {
   "cell_type": "code",
   "execution_count": 51,
   "id": "5fe56f51",
   "metadata": {
    "collapsed": false,
    "execution": {
     "iopub.execute_input": "2024-02-13T18:51:15.579726Z",
     "iopub.status.busy": "2024-02-13T18:51:15.579453Z",
     "iopub.status.idle": "2024-02-13T18:53:31.336540Z",
     "shell.execute_reply": "2024-02-13T18:53:31.335671Z",
     "shell.execute_reply.started": "2024-02-13T18:51:15.579701Z"
    },
    "is_executing": true
   },
   "outputs": [
    {
     "name": "stderr",
     "output_type": "stream",
     "text": [
      "\n",
      "  0%|                                                                                                                                                                                       | 0/50 [00:00<?, ?it/s]\u001B[A\n",
      "  2%|███▍                                                                                                                                                                       | 1/50 [12:52<10:30:38, 772.21s/it]\u001B[A\n",
      "  4%|██████▊                                                                                                                                                                    | 2/50 [25:24<10:13:03, 766.32s/it]\u001B[A\n",
      "  6%|██████████▎                                                                                                                                                                 | 3/50 [31:36<8:27:33, 647.94s/it]\u001B[A\n",
      "  8%|█████████████▊                                                                                                                                                              | 4/50 [38:43<7:25:59, 581.74s/it]\u001B[A\n",
      " 10%|█████████████████▏                                                                                                                                                          | 5/50 [48:31<7:17:33, 583.42s/it]\u001B[A\n",
      " 12%|████████████████████▋                                                                                                                                                       | 6/50 [57:31<6:58:21, 570.50s/it]\u001B[A\n",
      " 14%|███████████████████████▊                                                                                                                                                  | 7/50 [1:09:24<7:19:30, 613.27s/it]\u001B[A\n",
      " 16%|███████████████████████████▏                                                                                                                                              | 8/50 [1:21:50<7:37:06, 653.01s/it]\u001B[A\n",
      " 18%|██████████████████████████████▌                                                                                                                                           | 9/50 [1:30:56<7:04:23, 621.06s/it]\u001B[A\n",
      " 20%|█████████████████████████████████▊                                                                                                                                       | 10/50 [1:49:10<8:28:33, 762.84s/it]\u001B[A\n",
      " 22%|█████████████████████████████████████▏                                                                                                                                   | 11/50 [2:03:00<8:28:59, 783.06s/it]\u001B[A\n",
      " 24%|████████████████████████████████████████▌                                                                                                                                | 12/50 [2:10:45<7:15:23, 687.45s/it]\u001B[A\n",
      " 26%|███████████████████████████████████████████▉                                                                                                                             | 13/50 [2:24:28<7:29:10, 728.38s/it]\u001B[A\n",
      " 28%|███████████████████████████████████████████████▎                                                                                                                         | 14/50 [2:28:59<5:54:38, 591.07s/it]\u001B[A\n",
      " 30%|██████████████████████████████████████████████████▋                                                                                                                      | 15/50 [2:37:51<5:34:26, 573.31s/it]\u001B[A\n",
      " 32%|██████████████████████████████████████████████████████                                                                                                                   | 16/50 [2:52:01<6:11:51, 656.22s/it]\u001B[A\n",
      " 34%|█████████████████████████████████████████████████████████▍                                                                                                               | 17/50 [3:02:16<5:54:08, 643.91s/it]\u001B[A\n",
      " 36%|████████████████████████████████████████████████████████████▊                                                                                                            | 18/50 [3:13:33<5:48:47, 654.00s/it]\u001B[A\n",
      " 38%|████████████████████████████████████████████████████████████████▏                                                                                                        | 19/50 [3:23:08<5:25:37, 630.24s/it]\u001B[A\n",
      " 40%|███████████████████████████████████████████████████████████████████▌                                                                                                     | 20/50 [3:29:14<4:35:26, 550.88s/it]\u001B[A\n",
      " 42%|██████████████████████████████████████████████████████████████████████▉                                                                                                  | 21/50 [3:44:23<5:18:11, 658.32s/it]\u001B[A\n",
      " 44%|██████████████████████████████████████████████████████████████████████████▎                                                                                              | 22/50 [3:53:57<4:55:22, 632.96s/it]\u001B[A\n",
      " 46%|█████████████████████████████████████████████████████████████████████████████▋                                                                                           | 23/50 [3:58:52<3:59:14, 531.64s/it]\u001B[A\n",
      " 48%|█████████████████████████████████████████████████████████████████████████████████                                                                                        | 24/50 [4:08:19<3:54:58, 542.25s/it]\u001B[A\n",
      " 50%|████████████████████████████████████████████████████████████████████████████████████▌                                                                                    | 25/50 [4:19:46<4:04:02, 585.69s/it]\u001B[A\n",
      " 52%|███████████████████████████████████████████████████████████████████████████████████████▉                                                                                 | 26/50 [4:25:44<3:26:56, 517.35s/it]\u001B[A\n",
      " 54%|███████████████████████████████████████████████████████████████████████████████████████████▎                                                                             | 27/50 [4:32:54<3:08:17, 491.19s/it]\u001B[A\n",
      " 56%|██████████████████████████████████████████████████████████████████████████████████████████████▋                                                                          | 28/50 [4:45:53<3:31:47, 577.61s/it]\u001B[A\n",
      " 58%|██████████████████████████████████████████████████████████████████████████████████████████████████                                                                       | 29/50 [4:52:14<3:01:31, 518.64s/it]\u001B[A\n",
      " 60%|█████████████████████████████████████████████████████████████████████████████████████████████████████▍                                                                   | 30/50 [5:05:49<3:22:28, 607.42s/it]\u001B[A\n",
      " 62%|████████████████████████████████████████████████████████████████████████████████████████████████████████▊                                                                | 31/50 [5:15:48<3:11:31, 604.83s/it]\u001B[A\n",
      " 64%|████████████████████████████████████████████████████████████████████████████████████████████████████████████▏                                                            | 32/50 [5:22:28<2:43:04, 543.56s/it]\u001B[A\n",
      " 66%|███████████████████████████████████████████████████████████████████████████████████████████████████████████████▌                                                         | 33/50 [5:32:01<2:36:31, 552.43s/it]\u001B[A\n",
      " 68%|██████████████████████████████████████████████████████████████████████████████████████████████████████████████████▉                                                      | 34/50 [5:42:57<2:35:32, 583.30s/it]\u001B[A\n",
      " 70%|██████████████████████████████████████████████████████████████████████████████████████████████████████████████████████▎                                                  | 35/50 [5:55:28<2:38:25, 633.72s/it]\u001B[A\n",
      " 72%|█████████████████████████████████████████████████████████████████████████████████████████████████████████████████████████▋                                               | 36/50 [6:10:50<2:48:02, 720.16s/it]\u001B[A\n",
      " 74%|█████████████████████████████████████████████████████████████████████████████████████████████████████████████████████████████                                            | 37/50 [6:26:18<2:49:31, 782.40s/it]\u001B[A\n",
      " 76%|████████████████████████████████████████████████████████████████████████████████████████████████████████████████████████████████▍                                        | 38/50 [6:38:44<2:34:19, 771.61s/it]\u001B[A\n",
      " 78%|███████████████████████████████████████████████████████████████████████████████████████████████████████████████████████████████████▊                                     | 39/50 [6:51:21<2:20:37, 767.08s/it]\u001B[A\n",
      " 80%|███████████████████████████████████████████████████████████████████████████████████████████████████████████████████████████████████████▏                                 | 40/50 [6:58:56<1:52:14, 673.47s/it]\u001B[A\n",
      " 82%|██████████████████████████████████████████████████████████████████████████████████████████████████████████████████████████████████████████▌                              | 41/50 [7:08:08<1:35:35, 637.24s/it]\u001B[A\n",
      " 84%|█████████████████████████████████████████████████████████████████████████████████████████████████████████████████████████████████████████████▉                           | 42/50 [7:15:03<1:16:03, 570.40s/it]\u001B[A\n",
      " 86%|█████████████████████████████████████████████████████████████████████████████████████████████████████████████████████████████████████████████████▎                       | 43/50 [7:26:50<1:11:20, 611.45s/it]\u001B[A\n",
      " 88%|██████████████████████████████████████████████████████████████████████████████████████████████████████████████████████████████████████████████████████▍                    | 44/50 [7:36:09<59:34, 595.78s/it]\u001B[A\n",
      " 90%|█████████████████████████████████████████████████████████████████████████████████████████████████████████████████████████████████████████████████████████▉                 | 45/50 [7:40:56<41:56, 503.22s/it]\u001B[A\n",
      " 92%|█████████████████████████████████████████████████████████████████████████████████████████████████████████████████████████████████████████████████████████████▎             | 46/50 [7:48:50<32:56, 494.24s/it]\u001B[A\n",
      " 94%|████████████████████████████████████████████████████████████████████████████████████████████████████████████████████████████████████████████████████████████████▋          | 47/50 [7:58:06<25:38, 512.94s/it]\u001B[A\n",
      " 96%|████████████████████████████████████████████████████████████████████████████████████████████████████████████████████████████████████████████████████████████████████▏      | 48/50 [8:03:17<15:04, 452.29s/it]\u001B[A\n",
      " 98%|███████████████████████████████████████████████████████████████████████████████████████████████████████████████████████████████████████████████████████████████████████▌   | 49/50 [8:08:30<06:50, 410.34s/it]\u001B[A\n",
      "100%|███████████████████████████████████████████████████████████████████████████████████████████████████████████████████████████████████████████████████████████████████████████| 50/50 [8:14:26<00:00, 394.21s/it]\u001B[A\n",
      "\u001B[A"
     ]
    }
   ],
   "source": [
    "(score, hyperparams, model) = max(random_search_opt(train_interactions_weights=interactions_weights_train,\n",
    "                                                    test_interactions_weights=interactions_weights_test,\n",
    "                                                    user_features=user_features,\n",
    "                                                    item_features=item_features,\n",
    "                                                    num_threads=8), key=lambda x: x[0])"
   ]
  },
  {
   "cell_type": "code",
   "execution_count": 36,
   "id": "233007d8",
   "metadata": {
    "collapsed": false,
    "execution": {
     "iopub.execute_input": "2024-02-14T15:55:07.927656Z",
     "iopub.status.busy": "2024-02-14T15:55:07.926974Z",
     "iopub.status.idle": "2024-02-14T15:55:07.932591Z",
     "shell.execute_reply": "2024-02-14T15:55:07.931992Z",
     "shell.execute_reply.started": "2024-02-14T15:55:07.927629Z"
    },
    "is_executing": true,
    "tags": []
   },
   "outputs": [
    {
     "data": {
      "text/plain": [
       "{'score': 0.005051397,\n",
       " 'params': {'no_components': 58,\n",
       "  'learning_schedule': 'adadelta',\n",
       "  'loss': 'warp-kos',\n",
       "  'learning_rate': 0.02831799038773959,\n",
       "  'item_alpha': 7.146026267310411e-09,\n",
       "  'user_alpha': 5.344231738525779e-10,\n",
       "  'max_sampled': 14,\n",
       "  'num_epochs': 42}}"
      ]
     },
     "execution_count": 36,
     "metadata": {},
     "output_type": "execute_result"
    }
   ],
   "source": [
    "optimized_dict_opt = {'score': score,\n",
    "                      'params': hyperparams}\n",
    "\n",
    "# with open('optimized_dict_2.pkl', 'wb') as f:\n",
    "#     pickle.dump(optimized_dict_opt, f)\n",
    "\n",
    "optimized_dict_opt"
   ]
  },
  {
   "cell_type": "markdown",
   "source": [
    "Le modèle le plus optimale trouvé par recherche aléatoire a une précision de `0.005051397` sur les données de test."
   ],
   "metadata": {
    "collapsed": false
   },
   "id": "7c15df9c5edb4e56"
  },
  {
   "cell_type": "markdown",
   "id": "06d00be1",
   "metadata": {},
   "source": [
    "### 4.4. Entrainement du modèle à soumettre"
   ]
  },
  {
   "cell_type": "code",
   "execution_count": 37,
   "id": "37971924",
   "metadata": {
    "collapsed": false,
    "execution": {
     "iopub.execute_input": "2024-02-14T15:55:22.011244Z",
     "iopub.status.busy": "2024-02-14T15:55:22.010568Z",
     "iopub.status.idle": "2024-02-14T15:55:22.014548Z",
     "shell.execute_reply": "2024-02-14T15:55:22.013731Z",
     "shell.execute_reply.started": "2024-02-14T15:55:22.011214Z"
    },
    "is_executing": true,
    "tags": []
   },
   "outputs": [],
   "source": [
    "best_hyperparams_opt = optimized_dict_opt['params']\n",
    "num_epochs_opt = best_hyperparams_opt.pop(\"num_epochs\")"
   ]
  },
  {
   "cell_type": "code",
   "execution_count": 38,
   "id": "70fccb07",
   "metadata": {
    "collapsed": false,
    "execution": {
     "iopub.execute_input": "2024-02-14T15:56:07.812022Z",
     "iopub.status.busy": "2024-02-14T15:56:07.811476Z",
     "iopub.status.idle": "2024-02-14T15:59:27.847202Z",
     "shell.execute_reply": "2024-02-14T15:59:27.846555Z",
     "shell.execute_reply.started": "2024-02-14T15:56:07.811993Z"
    },
    "is_executing": true
   },
   "outputs": [
    {
     "name": "stdout",
     "output_type": "stream",
     "text": [
      "time taken = 200.03 seconds\n"
     ]
    }
   ],
   "source": [
    "model_2 = LightFM(**best_hyperparams_opt)\n",
    "\n",
    "start = time.time()\n",
    "model_2.fit(interactions_weights,\n",
    "            user_features=user_features,\n",
    "            item_features=item_features,\n",
    "            sample_weight=None,\n",
    "            epochs=num_epochs_opt,\n",
    "            num_threads=8,\n",
    "            verbose=False)\n",
    "end = time.time()\n",
    "print(\"time taken = {0:.{1}f} seconds\".format(end - start, 2))"
   ]
  },
  {
   "cell_type": "code",
   "execution_count": null,
   "outputs": [],
   "source": [
    "class PreprocessorWithFeatures():\n",
    "    def __init__(self, model, dataset, item_features, user_features):\n",
    "        self.model = model\n",
    "        self.item_features = item_features if item_features is not None else None\n",
    "        self.user_features = user_features if user_features is not None else None\n",
    "        self.item_ids = list(dataset.mapping()[2].values())\n",
    "\n",
    "    def get_scores(self, user_ids):\n",
    "        return self.model.predict(user_ids=user_ids,\n",
    "                                  item_ids=self.item_ids,\n",
    "                                  item_features=self.item_features,\n",
    "                                  user_features=self.user_features)"
   ],
   "metadata": {
    "collapsed": false
   },
   "id": "85d46c6ede8d9786"
  },
  {
   "cell_type": "code",
   "execution_count": 39,
   "id": "7e081ffc",
   "metadata": {
    "collapsed": false,
    "execution": {
     "iopub.execute_input": "2024-02-14T15:59:27.849442Z",
     "iopub.status.busy": "2024-02-14T15:59:27.848701Z",
     "iopub.status.idle": "2024-02-14T15:59:27.870923Z",
     "shell.execute_reply": "2024-02-14T15:59:27.870393Z",
     "shell.execute_reply.started": "2024-02-14T15:59:27.849407Z"
    },
    "is_executing": true
   },
   "outputs": [],
   "source": [
    "preprocessor_with_features = PreprocessorWithFeatures(model=model_2, dataset=dataset, item_features=item_features,\n",
    "                                                      user_features=user_features)\n",
    "model_with_features = RecommendationSystem(preprocessor=preprocessor_with_features,\n",
    "                                           dataset=dataset,\n",
    "                                           interaction_matrix=interactions_weights)"
   ]
  },
  {
   "cell_type": "code",
   "execution_count": 40,
   "id": "5608ff42",
   "metadata": {
    "collapsed": false,
    "execution": {
     "iopub.execute_input": "2024-02-14T15:59:27.872078Z",
     "iopub.status.busy": "2024-02-14T15:59:27.871667Z",
     "iopub.status.idle": "2024-02-14T15:59:27.944389Z",
     "shell.execute_reply": "2024-02-14T15:59:27.943620Z",
     "shell.execute_reply.started": "2024-02-14T15:59:27.872052Z"
    },
    "is_executing": true
   },
   "outputs": [
    {
     "name": "stdout",
     "output_type": "stream",
     "text": [
      "User 00000dbacae5abe5e23885899a1fa44253a17956c6d1c3d25f88aa139fdfc657\n",
      "     Known positives:\n",
      "                  0568601043\n",
      "     Recommended:\n",
      "                  0869473003\n",
      "                  0839496004\n",
      "                  0865929014\n",
      "                  0865929007\n",
      "                  0865929003\n",
      "                  0892455003\n",
      "                  0884319007\n",
      "                  0832359003\n",
      "                  0873678007\n",
      "                  0884319003\n",
      "                  0819520008\n",
      "                  0930380001\n"
     ]
    }
   ],
   "source": [
    "model_with_features.recommendation_for_user('00000dbacae5abe5e23885899a1fa44253a17956c6d1c3d25f88aa139fdfc657', 12)"
   ]
  },
  {
   "cell_type": "markdown",
   "id": "b514052d",
   "metadata": {},
   "source": [
    "### 4.5. Prédictions à soumettre"
   ]
  },
  {
   "cell_type": "code",
   "execution_count": 41,
   "id": "d9b81ab9",
   "metadata": {
    "collapsed": false,
    "execution": {
     "iopub.execute_input": "2024-02-14T15:59:27.945877Z",
     "iopub.status.busy": "2024-02-14T15:59:27.945261Z",
     "iopub.status.idle": "2024-02-15T08:10:52.497121Z",
     "shell.execute_reply": "2024-02-15T08:10:52.496277Z",
     "shell.execute_reply.started": "2024-02-14T15:59:27.945851Z"
    },
    "is_executing": true,
    "tags": []
   },
   "outputs": [
    {
     "name": "stderr",
     "output_type": "stream",
     "text": [
      "100%|█████████▉| 171392/171498 [16:10:17<00:36,  2.93it/s]  \n",
      "100%|██████████| 171498/171498 [16:10:46<00:00,  2.94it/s]\n",
      "100%|█████████▉| 171395/171498 [16:10:40<00:27,  3.81it/s]\n",
      "100%|██████████| 171498/171498 [16:10:48<00:00,  2.94it/s]\n",
      "100%|██████████| 171497/171497 [16:10:52<00:00,  2.94it/s]\n",
      "100%|██████████| 171498/171498 [16:10:58<00:00,  2.94it/s]\n",
      "100%|██████████| 171497/171497 [16:10:51<00:00,  2.94it/s]\n",
      "100%|██████████| 171497/171497 [16:10:56<00:00,  2.94it/s]\n"
     ]
    }
   ],
   "source": [
    "gc.collect()\n",
    "\n",
    "predict_opt = partial(predict_sub_chunks, model=model_with_features, top_selling_article_str=top_selling_article_str)\n",
    "\n",
    "with Pool(num_cores) as pool:\n",
    "    result_opt = pool.map(predict_opt, customer_id_chunks)"
   ]
  },
  {
   "cell_type": "code",
   "execution_count": 42,
   "id": "436adf66",
   "metadata": {
    "collapsed": false,
    "execution": {
     "iopub.execute_input": "2024-02-15T08:10:52.500160Z",
     "iopub.status.busy": "2024-02-15T08:10:52.499727Z",
     "iopub.status.idle": "2024-02-15T08:10:52.582487Z",
     "shell.execute_reply": "2024-02-15T08:10:52.581742Z",
     "shell.execute_reply.started": "2024-02-15T08:10:52.500116Z"
    },
    "is_executing": true
   },
   "outputs": [
    {
     "name": "stdout",
     "output_type": "stream",
     "text": [
      "1371980\n",
      "1371980\n"
     ]
    }
   ],
   "source": [
    "result_combined_opt = list(itertools.chain(result_opt[0], result_opt[1], result_opt[2], result_opt[3],\n",
    "                                           result_opt[4], result_opt[5], result_opt[6], result_opt[7]))\n",
    "print(len(customer_ids))\n",
    "print(len(result_combined_opt))"
   ]
  },
  {
   "cell_type": "code",
   "execution_count": 43,
   "id": "55111486",
   "metadata": {
    "collapsed": false,
    "execution": {
     "iopub.execute_input": "2024-02-15T08:10:52.584030Z",
     "iopub.status.busy": "2024-02-15T08:10:52.583485Z",
     "iopub.status.idle": "2024-02-15T08:10:59.510538Z",
     "shell.execute_reply": "2024-02-15T08:10:59.509956Z",
     "shell.execute_reply.started": "2024-02-15T08:10:52.583990Z"
    },
    "is_executing": true,
    "tags": []
   },
   "outputs": [
    {
     "data": {
      "text/html": [
       "<div>\n",
       "<style scoped>\n",
       "    .dataframe tbody tr th:only-of-type {\n",
       "        vertical-align: middle;\n",
       "    }\n",
       "\n",
       "    .dataframe tbody tr th {\n",
       "        vertical-align: top;\n",
       "    }\n",
       "\n",
       "    .dataframe thead th {\n",
       "        text-align: right;\n",
       "    }\n",
       "</style>\n",
       "<table border=\"1\" class=\"dataframe\">\n",
       "  <thead>\n",
       "    <tr style=\"text-align: right;\">\n",
       "      <th></th>\n",
       "      <th>customer_id</th>\n",
       "      <th>prediction</th>\n",
       "    </tr>\n",
       "  </thead>\n",
       "  <tbody>\n",
       "    <tr>\n",
       "      <th>0</th>\n",
       "      <td>00000dbacae5abe5e23885899a1fa44253a17956c6d1c3...</td>\n",
       "      <td>0869473003 0839496004 0865929014 0865929007 08...</td>\n",
       "    </tr>\n",
       "    <tr>\n",
       "      <th>1</th>\n",
       "      <td>0000423b00ade91418cceaf3b26c6af3dd342b51fd051e...</td>\n",
       "      <td>0866482003 0866528001 0738713026 0866503007 08...</td>\n",
       "    </tr>\n",
       "    <tr>\n",
       "      <th>2</th>\n",
       "      <td>000058a12d5b43e67d225668fa1f8d618c13dc232df0ca...</td>\n",
       "      <td>0918292004 0905957007 0809961001 0680391023 08...</td>\n",
       "    </tr>\n",
       "    <tr>\n",
       "      <th>3</th>\n",
       "      <td>00005ca1c9ed5f5146b52ac8639a40ca9d57aeff4d1bd2...</td>\n",
       "      <td>0866482003 0866528001 0896522005 0738713026 08...</td>\n",
       "    </tr>\n",
       "    <tr>\n",
       "      <th>4</th>\n",
       "      <td>00006413d8573cd20ed7128e53b7b13819fe5cfc2d801f...</td>\n",
       "      <td>0866482003 0866482004 0866528001 0896522005 08...</td>\n",
       "    </tr>\n",
       "  </tbody>\n",
       "</table>\n",
       "</div>"
      ],
      "text/plain": [
       "                                         customer_id                                         prediction\n",
       "0  00000dbacae5abe5e23885899a1fa44253a17956c6d1c3...  0869473003 0839496004 0865929014 0865929007 08...\n",
       "1  0000423b00ade91418cceaf3b26c6af3dd342b51fd051e...  0866482003 0866528001 0738713026 0866503007 08...\n",
       "2  000058a12d5b43e67d225668fa1f8d618c13dc232df0ca...  0918292004 0905957007 0809961001 0680391023 08...\n",
       "3  00005ca1c9ed5f5146b52ac8639a40ca9d57aeff4d1bd2...  0866482003 0866528001 0896522005 0738713026 08...\n",
       "4  00006413d8573cd20ed7128e53b7b13819fe5cfc2d801f...  0866482003 0866482004 0866528001 0896522005 08..."
      ]
     },
     "execution_count": 43,
     "metadata": {},
     "output_type": "execute_result"
    }
   ],
   "source": [
    "submission_data_2 = pd.DataFrame({'customer_id': customer_ids, 'prediction': result_combined_opt})\n",
    "submission_data_2.head()"
   ]
  },
  {
   "cell_type": "markdown",
   "source": [
    "## 5. Choix du modèle finale"
   ],
   "metadata": {
    "collapsed": false
   },
   "id": "e113b97edbf37965"
  },
  {
   "cell_type": "markdown",
   "source": [
    "Le modèle de filtrage collaboratif sans les caractéristiques d’articles et d’utilisateurs avec une précision de `0.012020846` a obtenu de meilleures performances que le modèle de filtrage hybride avec les caractéristiques d'articles et d'utilisateurs avec une précision de `0.005051397`."
   ],
   "metadata": {
    "collapsed": false
   },
   "id": "e425a47b06978851"
  },
  {
   "cell_type": "code",
   "execution_count": null,
   "outputs": [],
   "source": [
    "submission_data_1.to_csv('submission.csv', index=False)"
   ],
   "metadata": {
    "collapsed": false
   },
   "id": "6328f7dd5dced8c6"
  }
 ],
 "metadata": {
  "kernelspec": {
   "display_name": "saturn (Python 3)",
   "language": "python",
   "name": "python3"
  },
  "language_info": {
   "codemirror_mode": {
    "name": "ipython",
    "version": 3
   },
   "file_extension": ".py",
   "mimetype": "text/x-python",
   "name": "python",
   "nbconvert_exporter": "python",
   "pygments_lexer": "ipython3",
   "version": "3.9.15"
  }
 },
 "nbformat": 4,
 "nbformat_minor": 5
}
